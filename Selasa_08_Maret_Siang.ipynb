{
 "cells": [
  {
   "cell_type": "code",
   "execution_count": 1,
   "id": "2d314d7c",
   "metadata": {},
   "outputs": [],
   "source": [
    "import numpy as np"
   ]
  },
  {
   "cell_type": "code",
   "execution_count": 2,
   "id": "614b3e27",
   "metadata": {},
   "outputs": [],
   "source": [
    "A = np.array([[1, 2], [7,8]])\n",
    "B = np.array([[3, 5], [1,6]])"
   ]
  },
  {
   "cell_type": "markdown",
   "id": "f27737b1",
   "metadata": {},
   "source": [
    "### Hitunglah:\n",
    "\n",
    "1. 2*A\n",
    "2. 2+A\n",
    "3. A+B\n",
    "4. A-B\n",
    "5. determinan A\n",
    "6. invers dari B, simpan jadi matriks D\n",
    "7. transpose D\n",
    "8. nilai eigen dan vektor eigen dari A dan B"
   ]
  },
  {
   "cell_type": "code",
   "execution_count": 3,
   "id": "187efe76",
   "metadata": {},
   "outputs": [
    {
     "name": "stdout",
     "output_type": "stream",
     "text": [
      "[[ 2  4]\n",
      " [14 16]]\n"
     ]
    }
   ],
   "source": [
    "print(2*A)"
   ]
  },
  {
   "cell_type": "code",
   "execution_count": 4,
   "id": "71f28473",
   "metadata": {},
   "outputs": [
    {
     "name": "stdout",
     "output_type": "stream",
     "text": [
      "[[ 3  4]\n",
      " [ 9 10]]\n"
     ]
    }
   ],
   "source": [
    "print(2 + A)"
   ]
  },
  {
   "cell_type": "code",
   "execution_count": 5,
   "id": "6c0153b8",
   "metadata": {},
   "outputs": [
    {
     "name": "stdout",
     "output_type": "stream",
     "text": [
      "[[ 4  7]\n",
      " [ 8 14]]\n"
     ]
    }
   ],
   "source": [
    "print(A+B)"
   ]
  },
  {
   "cell_type": "code",
   "execution_count": 6,
   "id": "1fe9c8b0",
   "metadata": {},
   "outputs": [
    {
     "name": "stdout",
     "output_type": "stream",
     "text": [
      "[[-2 -3]\n",
      " [ 6  2]]\n"
     ]
    }
   ],
   "source": [
    "print(A-B)"
   ]
  },
  {
   "cell_type": "code",
   "execution_count": 7,
   "id": "07fdd7fc",
   "metadata": {},
   "outputs": [
    {
     "name": "stdout",
     "output_type": "stream",
     "text": [
      "Determinan -6.0\n"
     ]
    }
   ],
   "source": [
    "print('Determinan', np.linalg.det(A))"
   ]
  },
  {
   "cell_type": "code",
   "execution_count": 8,
   "id": "c79c7db7",
   "metadata": {},
   "outputs": [],
   "source": [
    "D = np.linalg.inv(B)"
   ]
  },
  {
   "cell_type": "code",
   "execution_count": 9,
   "id": "d002cd00",
   "metadata": {},
   "outputs": [
    {
     "name": "stdout",
     "output_type": "stream",
     "text": [
      "[[ 0.46153846 -0.07692308]\n",
      " [-0.38461538  0.23076923]]\n"
     ]
    }
   ],
   "source": [
    "print(D.transpose())"
   ]
  },
  {
   "cell_type": "code",
   "execution_count": 10,
   "id": "d58ef89e",
   "metadata": {},
   "outputs": [],
   "source": [
    "eig_val, eign_vec= np.linalg.eig(A)"
   ]
  },
  {
   "cell_type": "code",
   "execution_count": 11,
   "id": "0f08fcf0",
   "metadata": {},
   "outputs": [
    {
     "name": "stdout",
     "output_type": "stream",
     "text": [
      "Eigen Value A = \n",
      " [-0.62347538  9.62347538]\n"
     ]
    }
   ],
   "source": [
    "print('Eigen Value A = \\n',eig_val)"
   ]
  },
  {
   "cell_type": "code",
   "execution_count": 12,
   "id": "5ef12af9",
   "metadata": {},
   "outputs": [
    {
     "name": "stdout",
     "output_type": "stream",
     "text": [
      "Eigen Vector A = \n",
      " [[-0.77640358 -0.22592838]\n",
      " [ 0.63023605 -0.97414391]]\n"
     ]
    }
   ],
   "source": [
    "print('Eigen Vector A = \\n',\n",
    "      eign_vec)"
   ]
  },
  {
   "cell_type": "code",
   "execution_count": 13,
   "id": "46aadea8",
   "metadata": {},
   "outputs": [],
   "source": [
    "eig_val, eign_vec= np.linalg.eig(B)"
   ]
  },
  {
   "cell_type": "code",
   "execution_count": 14,
   "id": "a621d2b2",
   "metadata": {},
   "outputs": [
    {
     "name": "stdout",
     "output_type": "stream",
     "text": [
      "Eigen Value B = \n",
      " [1.8074176 7.1925824]\n"
     ]
    }
   ],
   "source": [
    "print('Eigen Value B = \\n',eig_val)"
   ]
  },
  {
   "cell_type": "code",
   "execution_count": 15,
   "id": "783adabc",
   "metadata": {},
   "outputs": [
    {
     "name": "stdout",
     "output_type": "stream",
     "text": [
      "Eigen Vector B = \n",
      " [[-0.97271381 -0.76626443]\n",
      " [ 0.23200828 -0.64252535]]\n"
     ]
    }
   ],
   "source": [
    "print('Eigen Vector B = \\n',\n",
    "      eign_vec)"
   ]
  },
  {
   "cell_type": "markdown",
   "id": "ed355515",
   "metadata": {},
   "source": [
    "#### Apa perbedaan dari B*D (perkalian antar entry di B dan D) dan BD (perkalian matriks B dan D)?\n"
   ]
  },
  {
   "cell_type": "code",
   "execution_count": 16,
   "id": "acf26553",
   "metadata": {},
   "outputs": [
    {
     "name": "stdout",
     "output_type": "stream",
     "text": [
      "perkalian antar entry di B dan D = \n",
      " [[ 1.38461538 -1.92307692]\n",
      " [-0.07692308  1.38461538]]\n"
     ]
    }
   ],
   "source": [
    "print(\"perkalian antar entry di B dan D = \\n\",B*D)"
   ]
  },
  {
   "cell_type": "code",
   "execution_count": 17,
   "id": "34d0bac8",
   "metadata": {},
   "outputs": [
    {
     "name": "stdout",
     "output_type": "stream",
     "text": [
      "perkalian matriks B dan D = \n",
      " [[ 1.00000000e+00 -5.55111512e-17]\n",
      " [-5.55111512e-17  1.00000000e+00]]\n"
     ]
    }
   ],
   "source": [
    "print(\"perkalian matriks B dan D = \\n\",np.matmul(B,D))"
   ]
  },
  {
   "cell_type": "markdown",
   "id": "cea2a1c1",
   "metadata": {},
   "source": [
    "perkalian entry = [[ 1.38461538, -1.92307692], [-0.07692308, 1.38461538]]\n",
    "\n",
    "perkalian matriks = [[ 1.00000000e+00, -1.11022302e-16], [ 1.11022302e-16, 1.00000000e+00]]"
   ]
  }
 ],
 "metadata": {
  "kernelspec": {
   "display_name": "Python 3 (ipykernel)",
   "language": "python",
   "name": "python3"
  },
  "language_info": {
   "codemirror_mode": {
    "name": "ipython",
    "version": 3
   },
   "file_extension": ".py",
   "mimetype": "text/x-python",
   "name": "python",
   "nbconvert_exporter": "python",
   "pygments_lexer": "ipython3",
   "version": "3.9.7"
  }
 },
 "nbformat": 4,
 "nbformat_minor": 5
}
