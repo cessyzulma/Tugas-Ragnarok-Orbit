{
 "cells": [
  {
   "cell_type": "code",
   "execution_count": 1,
   "id": "e69c3676",
   "metadata": {},
   "outputs": [
    {
     "name": "stdout",
     "output_type": "stream",
     "text": [
      "Hello\n",
      "Enter something :hai, my name is nurul.. have a good day!\n",
      "You entered :  hai, my name is nurul.. have a good day!\n"
     ]
    }
   ],
   "source": [
    "# No. 2)\n",
    "print (\"Hello\")\n",
    "something = input ('Enter something :')\n",
    "print (\"You entered : \", something)"
   ]
  },
  {
   "cell_type": "code",
   "execution_count": 13,
   "id": "ef8c66b3",
   "metadata": {},
   "outputs": [
    {
     "name": "stdout",
     "output_type": "stream",
     "text": [
      "Hello !\n",
      "Enter something: do you\n",
      "I don't know what do you  means.\n"
     ]
    }
   ],
   "source": [
    "# No. 3)\n",
    "print('Hello !')\n",
    "something = input(\"Enter something: \")\n",
    "if something == 'hello':\n",
    "    print(\"Hello for you too!\")\n",
    "elif something == 'hi':\n",
    "    print('Hi there !')\n",
    "else :\n",
    "    print(\"I don't know what\", something, \" means.\")"
   ]
  },
  {
   "cell_type": "markdown",
   "id": "fd805b08",
   "metadata": {},
   "source": [
    "No. 1)\n",
    "\n",
    "a = false \n",
    "\n",
    "b = true\n",
    "\n",
    "c = false\n",
    "\n",
    "    1. (b and c) = true \n",
    "    \n",
    "    2. b or c = true\n",
    "    \n",
    "    3. not a and b = true \n",
    "    \n",
    "    4. (a and b) or not c = false\n",
    "    \n",
    "    5. not b and not (a or c) = false"
   ]
  },
  {
   "cell_type": "code",
   "execution_count": 8,
   "id": "5608ee18",
   "metadata": {},
   "outputs": [
    {
     "name": "stdout",
     "output_type": "stream",
     "text": [
      "False\n",
      "True\n",
      "True\n",
      "False\n",
      "False\n"
     ]
    }
   ],
   "source": [
    "a = False\n",
    "b = True\n",
    "c = False\n",
    "\n",
    "print (b and c)\n",
    "print (b or c)\n",
    "print (not a and b)\n",
    "print (a and b) or not c\n",
    "print (not b and not (a or c))"
   ]
  },
  {
   "cell_type": "code",
   "execution_count": 14,
   "id": "409be7b3",
   "metadata": {},
   "outputs": [
    {
     "name": "stdout",
     "output_type": "stream",
     "text": [
      "Hallo hai\n",
      "Hallo hai\n",
      "Hallo hai\n",
      "Hallo hai\n",
      "Hallo hai\n",
      "Hallo hai\n",
      "Hallo hai\n",
      "Hallo hai\n",
      "Hallo hai\n",
      "Hallo hai\n",
      "Hallo hai\n",
      "Hallo hai\n",
      "Hallo hai\n",
      "Hallo hai\n",
      "Hallo hai\n",
      "Hallo hai\n",
      "Hallo hai\n",
      "Hallo hai\n",
      "Hallo hai\n",
      "Hallo hai\n",
      "Hallo hai\n",
      "Hallo hai\n",
      "Hallo hai\n",
      "Hallo hai\n",
      "Hallo hai\n",
      "Hallo hai\n",
      "Hallo hai\n",
      "Hallo hai\n",
      "Hallo hai\n",
      "Hallo hai\n",
      "Hallo hai\n",
      "Hallo hai\n",
      "Hallo hai\n",
      "Hallo hai\n",
      "Hallo hai\n",
      "Hallo hai\n",
      "Hallo hai\n",
      "Hallo hai\n",
      "Hallo hai\n",
      "Hallo hai\n",
      "Hallo hai\n",
      "Hallo hai\n",
      "Hallo hai\n",
      "Hallo hai\n",
      "Hallo hai\n",
      "Hallo hai\n",
      "Hallo hai\n",
      "Hallo hai\n",
      "Hallo hai\n",
      "Hallo hai\n",
      "Hallo hai\n",
      "Hallo hai\n",
      "Hallo hai\n",
      "Hallo hai\n",
      "Hallo hai\n",
      "Hallo hai\n",
      "Hallo hai\n",
      "Hallo hai\n",
      "Hallo hai\n",
      "Hallo hai\n",
      "Hallo hai\n",
      "Hallo hai\n",
      "Hallo hai\n",
      "Hallo hai\n",
      "Hallo hai\n",
      "Hallo hai\n",
      "Hallo hai\n",
      "Hallo hai\n",
      "Hallo hai\n",
      "Hallo hai\n",
      "Hallo hai\n",
      "Hallo hai\n",
      "Hallo hai\n",
      "Hallo hai\n",
      "Hallo hai\n",
      "Hallo hai\n",
      "Hallo hai\n",
      "Hallo hai\n",
      "Hallo hai\n",
      "Hallo hai\n",
      "Hallo hai\n",
      "Hallo hai\n",
      "Hallo hai\n",
      "Hallo hai\n",
      "Hallo hai\n",
      "Hallo hai\n",
      "Hallo hai\n",
      "Hallo hai\n",
      "Hallo hai\n",
      "Hallo hai\n",
      "Hallo hai\n",
      "Hallo hai\n",
      "Hallo hai\n",
      "Hallo hai\n",
      "Hallo hai\n",
      "Hallo hai\n",
      "Hallo hai\n",
      "Hallo hai\n",
      "Hallo hai\n",
      "Hallo hai\n"
     ]
    }
   ],
   "source": [
    "# No. 4)\n",
    "for i in range(100): print('Hallo hai')"
   ]
  },
  {
   "cell_type": "code",
   "execution_count": null,
   "id": "6003da92",
   "metadata": {},
   "outputs": [
    {
     "name": "stdout",
     "output_type": "stream",
     "text": [
      "player 1 :kertas\n",
      "player 2 :gunting\n",
      "player 2 win !\n",
      "Player 1 : batu\n",
      "Player 2 : kertas\n",
      "player 2 win !\n",
      "Player 1 : gunting \n",
      "Player 2 : batu\n",
      "player 2 win!\n",
      "Player 1 : kertas\n",
      "Player 2 : batu\n",
      "player 1 win !\n"
     ]
    }
   ],
   "source": [
    "# No. 5)\n",
    "player1 = input(\"player 1 :\")\n",
    "player2 = input(\"player 2 :\")\n",
    "while (player1 == 'gunting' or player1 == 'batu' or player1 == 'kertas' or player2 == 'gunting' or player2 == 'batu' or player2 == 'kertas'):\n",
    "    if (player1 [0] == \"g\" and player2[0] == 'b'):\n",
    "        print('player 2 win!')\n",
    "    elif(player1[0] == \"g\" and player2[0] == \"k\"):\n",
    "        print(\"player 1 win !\")\n",
    "    elif(player1[0] == \"b\" and player2[0] == \"g\"):\n",
    "        print(\"player 1 win !\")\n",
    "    elif(player1[0] == \"b\" and player2[0] == \"k\"):\n",
    "        print(\"player 2 win !\")\n",
    "    elif(player1[0] == \"k\" and player2[0] == \"b\"):\n",
    "        print(\"player 1 win !\")\n",
    "    elif(player1[0] == \"k\" and player2[0] == \"g\"):\n",
    "        print(\"player 2 win !\")\n",
    "    else:\n",
    "        print ('draw')\n",
    "        \n",
    "    player1 = input(\"Player 1 : \")\n",
    "    player2 = input(\"Player 2 : \")\n",
    "        \n",
    "print(\"program stopped working !\")"
   ]
  },
  {
   "cell_type": "code",
   "execution_count": 7,
   "id": "01330943",
   "metadata": {},
   "outputs": [
    {
     "name": "stdout",
     "output_type": "stream",
     "text": [
      "Input something : 1\n",
      "Program execute!\n",
      "Input something : 2\n",
      "Program execute!\n",
      "Input something : 4\n",
      "Program execute!\n",
      "Input something : 5\n",
      "Program execute!\n",
      "Input something : stopp !\n",
      "Program stopped working !!!\n"
     ]
    }
   ],
   "source": [
    "# No. 6)\n",
    "a = input(\"Input something : \")\n",
    "while(a != \"stopp !\"):\n",
    "    print(\"Program execute!\")\n",
    "    a = input(\"Input something : \")\n",
    "print(\"Program stopped working !!!\")"
   ]
  },
  {
   "cell_type": "code",
   "execution_count": 9,
   "id": "976d7f60",
   "metadata": {},
   "outputs": [
    {
     "name": "stdout",
     "output_type": "stream",
     "text": [
      "MENU JAJANAN PASAR\n",
      "\n",
      "1. Donat     ->   Rp.650.000-,\n",
      "2. Bakwan    ->   Rp.500.000-,\n",
      "3. Onde-onde ->   Rp.3500.000-,\n",
      "Input user : 1\n",
      "Pesanan donat nya Rp.650.000, terimakasih sudah berbelanja di store kami!\n",
      "MENU JAJANAN PASAR\n",
      "\n",
      "1. Donat     ->   Rp.650.000-,\n",
      "2. Bakwan    ->   Rp.500.000-,\n",
      "3. Onde-onde ->   Rp.3500.000-,\n",
      "Input user : 2\n",
      "Pesanan bakwan nya Rp.500.000, terimakasih sudah berbelanja di store kami!\n",
      "MENU JAJANAN PASAR\n",
      "\n",
      "1. Donat     ->   Rp.650.000-,\n",
      "2. Bakwan    ->   Rp.500.000-,\n",
      "3. Onde-onde ->   Rp.3500.000-,\n",
      "Input user : 3\n",
      "Pesanan onde-onde nya Rp.3500.000, terimakasih sudah berbelanja di store kami!\n",
      "MENU JAJANAN PASAR\n",
      "\n",
      "1. Donat     ->   Rp.650.000-,\n",
      "2. Bakwan    ->   Rp.500.000-,\n",
      "3. Onde-onde ->   Rp.3500.000-,\n",
      "Input user : cukup\n",
      "Wrong input\n",
      "Terimakasih sudah berbelanja jajanan di pasar kami\n"
     ]
    }
   ],
   "source": [
    "# NO. 7)\n",
    "a = 'n'\n",
    "while(a != \"cukup\"):\n",
    "    print(\"menu jajanan pasar\".upper())\n",
    "    print()\n",
    "    print(\"1. Donat     ->   Rp.650.000-,\")\n",
    "    print(\"2. Bakwan    ->   Rp.500.000-,\")\n",
    "    print(\"3. Onde-onde ->   Rp.3500.000-,\")\n",
    "    a = input(\"Input user : \")\n",
    "    if a == '1':\n",
    "        print(\"Pesanan donat nya Rp.650.000, terimakasih sudah berbelanja di store kami!\")\n",
    "    elif a == '2':\n",
    "        print(\"Pesanan bakwan nya Rp.500.000, terimakasih sudah berbelanja di store kami!\")\n",
    "    elif a == '3':\n",
    "        print(\"Pesanan onde-onde nya Rp.3500.000, terimakasih sudah berbelanja di store kami!\")\n",
    "    else:\n",
    "        print(\"Wrong input\")\n",
    "        \n",
    "print(\"Terimakasih sudah berbelanja jajanan di pasar kami\")"
   ]
  },
  {
   "cell_type": "code",
   "execution_count": 10,
   "id": "30f5eda0",
   "metadata": {},
   "outputs": [
    {
     "name": "stdout",
     "output_type": "stream",
     "text": [
      "MENU JAJANAN PASAR\n",
      "\n",
      "1. Donat      => Rp. 650.000-,\n",
      "2. Bakwan     => Rp. 500.000-,\n",
      "3. Onde-onde  => Rp. 350.000-,\n",
      "select number:1\n",
      "order quantity:15\n",
      "pesanan anda 15 Donat dengan harga Rp. 650.000\n",
      "total pembayaran: Rp. 9750000\n",
      "terimakasih sudah berbelanja:\n",
      "Terimakasih sudah berbelanja jajanan di pasar kami\n",
      "MENU JAJANAN PASAR\n",
      "\n",
      "1. Donat      => Rp. 650.000-,\n",
      "2. Bakwan     => Rp. 500.000-,\n",
      "3. Onde-onde  => Rp. 350.000-,\n",
      "select number:2\n",
      "order quantity:20\n",
      "pesanan anda 20 Bakwan dengan harga Rp. 500.000\n",
      "total pembayaran: Rp. 10000000\n",
      "terimakasih sudah berbelanja:\n",
      "Terimakasih sudah berbelanja jajanan di pasar kami\n",
      "MENU JAJANAN PASAR\n",
      "\n",
      "1. Donat      => Rp. 650.000-,\n",
      "2. Bakwan     => Rp. 500.000-,\n",
      "3. Onde-onde  => Rp. 350.000-,\n",
      "select number:3\n",
      "order quantity:30\n",
      "pesanan anda 30 onde-onde dengan harga Rp. 350.0000\n",
      "total pembayaran: Rp. 10500000\n",
      "terimakasih sudah berbelanja:\n",
      "Terimakasih sudah berbelanja jajanan di pasar kami\n",
      "MENU JAJANAN PASAR\n",
      "\n",
      "1. Donat      => Rp. 650.000-,\n",
      "2. Bakwan     => Rp. 500.000-,\n",
      "3. Onde-onde  => Rp. 350.000-,\n",
      "select number:5\n",
      "order quantity:0\n",
      "wrong input\n",
      "Terimakasih sudah berbelanja jajanan di pasar kami\n",
      "MENU JAJANAN PASAR\n",
      "\n",
      "1. Donat      => Rp. 650.000-,\n",
      "2. Bakwan     => Rp. 500.000-,\n",
      "3. Onde-onde  => Rp. 350.000-,\n",
      "select number:cukup\n",
      "order quantity:0\n",
      "wrong input\n",
      "Terimakasih sudah berbelanja jajanan di pasar kami\n"
     ]
    }
   ],
   "source": [
    "# N0. 8)\n",
    "a = 'n'\n",
    "while(a !='cukup'):\n",
    "    print('menu jajanan pasar' .upper())\n",
    "    print()\n",
    "    print('1. Donat      => Rp. 650.000-,')\n",
    "    print('2. Bakwan     => Rp. 500.000-,')\n",
    "    print('3. Onde-onde  => Rp. 350.000-,')\n",
    "    a = input('select number:')\n",
    "    b = input('order quantity:')\n",
    "    if a == '1':\n",
    "        print('pesanan anda', int(b), 'Donat dengan harga Rp. 650.000')\n",
    "        print('total pembayaran: Rp.',int(b)*650000)\n",
    "        print('terimakasih sudah berbelanja:')\n",
    "    elif a == '2':\n",
    "        print('pesanan anda', int(b), 'Bakwan dengan harga Rp. 500.000')\n",
    "        print('total pembayaran: Rp.',int(b)*500000)\n",
    "        print('terimakasih sudah berbelanja:')\n",
    "    elif a == '3':\n",
    "        print('pesanan anda', int(b), 'onde-onde dengan harga Rp. 350.0000')\n",
    "        print('total pembayaran: Rp.',int(b)*350000)\n",
    "        print('terimakasih sudah berbelanja:')\n",
    "    else:\n",
    "        print('wrong input')\n",
    "        \n",
    "    print('Terimakasih sudah berbelanja jajanan di pasar kami')"
   ]
  },
  {
   "cell_type": "code",
   "execution_count": null,
   "id": "9b99c6bc",
   "metadata": {},
   "outputs": [],
   "source": []
  }
 ],
 "metadata": {
  "kernelspec": {
   "display_name": "Python 3 (ipykernel)",
   "language": "python",
   "name": "python3"
  },
  "language_info": {
   "codemirror_mode": {
    "name": "ipython",
    "version": 3
   },
   "file_extension": ".py",
   "mimetype": "text/x-python",
   "name": "python",
   "nbconvert_exporter": "python",
   "pygments_lexer": "ipython3",
   "version": "3.9.7"
  }
 },
 "nbformat": 4,
 "nbformat_minor": 5
}
