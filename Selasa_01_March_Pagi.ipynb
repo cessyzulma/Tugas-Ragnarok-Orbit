{
 "cells": [
  {
   "cell_type": "markdown",
   "id": "34f32cd8",
   "metadata": {},
   "source": [
    "# Module 1: Introduction to everything \n",
    "\n",
    "## Lab 1: Getting Started with Python"
   ]
  },
  {
   "cell_type": "markdown",
   "id": "236017c8",
   "metadata": {},
   "source": [
    "---"
   ]
  },
  {
   "cell_type": "markdown",
   "id": "34bdf99c",
   "metadata": {},
   "source": [
    "## About Python\n",
    "\n",
    "Python is \n",
    "- general purpose programming language\n",
    "- interperted, not compiled\n",
    "- both __dynamically typed and strongly typed__\n",
    "- support multiple programming paradims: object oriented, functional\n",
    "- comes in 2 main versions in use today: 2.7 and 3.x"
   ]
  },
  {
   "cell_type": "markdown",
   "id": "71b42a4e",
   "metadata": {},
   "source": [
    "## Why Python  for Data Science\n",
    "\n",
    "Python is great for data science because\n",
    "- general purpose programming language (as opposed to R)\n",
    "- faster idea to execution to deployment\n",
    "- battle-tested\n",
    "- mature ML libraries"
   ]
  },
  {
   "cell_type": "markdown",
   "id": "f7e11bb4",
   "metadata": {},
   "source": [
    "## Python's Interactive Console : The Interpreter"
   ]
  },
  {
   "cell_type": "markdown",
   "id": "b363424a",
   "metadata": {},
   "source": [
    "- The Python interpreter is a console that allows interactive development\n",
    "- We are currently using the Jupyter notebook, which uses an advanced Python interpreter called IPython\n",
    "- This gives us much more power and flexibility"
   ]
  },
  {
   "cell_type": "markdown",
   "id": "f994697e",
   "metadata": {},
   "source": [
    "__Let's try it out !__"
   ]
  },
  {
   "cell_type": "code",
   "execution_count": 1,
   "id": "bd3ccd47",
   "metadata": {},
   "outputs": [
    {
     "name": "stdout",
     "output_type": "stream",
     "text": [
      "Hello World!\n"
     ]
    }
   ],
   "source": [
    "print(\"Hello World!\") #As usual with any language we start with with the print function"
   ]
  },
  {
   "cell_type": "markdown",
   "id": "c68efb09",
   "metadata": {},
   "source": [
    "## Objective"
   ]
  },
  {
   "cell_type": "markdown",
   "id": "2b744c88",
   "metadata": {},
   "source": [
    "- __Python Basics__\n",
    "    - __Strings__ - Creating a String, variable assignments - String Indexing & Slicing -String Concatenation & Repetition - Basic Built-in String Methods\n",
    "    - __Numbers__ - Types of Numbers - Basic Arithmetic \n",
    "- __Data Types & Data Structures__\n",
    "    - List\n",
    "    - Dictionaries\n",
    "    - Sets & Booleans\n",
    "- __Python Programming Constructs__\n",
    "    - Loops & Iterative Statements - if,elif,else statements -for loops, while loops"
   ]
  },
  {
   "cell_type": "markdown",
   "id": "1f8f484c",
   "metadata": {},
   "source": [
    "## Python Basics"
   ]
  },
  {
   "cell_type": "markdown",
   "id": "c150fdf1",
   "metadata": {},
   "source": [
    "### Let's understand\n",
    "\n",
    "- Basic data types\n",
    "- Variables and Scoping\n",
    "- Modules, Packages and the import statement\n",
    "- Operators"
   ]
  },
  {
   "cell_type": "markdown",
   "id": "ee265508",
   "metadata": {},
   "source": [
    "## Strings"
   ]
  },
  {
   "cell_type": "markdown",
   "id": "27218bb6",
   "metadata": {},
   "source": [
    "Strings are used in Python to record text information, such as name. Strings in Python are\n",
    "actually a sequence, which basically means Python keeps track of every element in the\n",
    "string as a sequence. For example, Python understands the string \"hello' to be a sequence of\n",
    "letters in a specific order. This means we will be able to use indexing to grab particular\n",
    "letters (like the first letter, or the last letter).\n",
    "\n",
    "This idea of a sequence is an important one in Python and we will touch upon it later on in\n",
    "the future.\n",
    "\n",
    "In this lecture we'll learn about the following:\n",
    "\n",
    "1.) Creating Strings\n",
    "\n",
    "2.) Printing Strings\n",
    "\n",
    "3.) String Indexing and Slicing\n",
    "\n",
    "4.) String Properties\n",
    "\n",
    "5.) String Methods\n",
    "\n",
    "6.) Print Formatting"
   ]
  },
  {
   "cell_type": "markdown",
   "id": "c3d59d9b",
   "metadata": {},
   "source": [
    "## Creating a String"
   ]
  },
  {
   "cell_type": "markdown",
   "id": "ade2874c",
   "metadata": {},
   "source": [
    "To create a string in Python you need to use either single quotes or double quotes. For\n",
    "\n",
    "example:"
   ]
  },
  {
   "cell_type": "code",
   "execution_count": 3,
   "id": "e7e50161",
   "metadata": {},
   "outputs": [
    {
     "name": "stdout",
     "output_type": "stream",
     "text": [
      "Hello\n"
     ]
    }
   ],
   "source": [
    "#Sing word\n",
    "print('Hello')"
   ]
  },
  {
   "cell_type": "code",
   "execution_count": 4,
   "id": "bc16ba2d",
   "metadata": {},
   "outputs": [
    {
     "name": "stdout",
     "output_type": "stream",
     "text": [
      "\n"
     ]
    }
   ],
   "source": [
    "print() #Used to have a line space between teo sentences. Try deleting this line & seeing the difference"
   ]
  },
  {
   "cell_type": "code",
   "execution_count": 5,
   "id": "b2348b18",
   "metadata": {},
   "outputs": [
    {
     "name": "stdout",
     "output_type": "stream",
     "text": [
      "This is also a string\n"
     ]
    }
   ],
   "source": [
    "#Entire phrase\n",
    "print('This is also a string')"
   ]
  },
  {
   "cell_type": "markdown",
   "id": "52cd68f5",
   "metadata": {},
   "source": [
    "## Variables : Store your Value in me!"
   ]
  },
  {
   "cell_type": "markdown",
   "id": "5543d4e0",
   "metadata": {},
   "source": [
    "In the code below we begin to explore how we can use a variable to which a string can be\n",
    "assigned.\n",
    "\n",
    "This can be extremely useful in many cases, where you can call the variable instead of\n",
    "typing the string everytime.\n",
    "\n",
    "This not only makes our code clean but it also makes it less redundant. Example syntax to\n",
    "assign a value or expression to a variable,\n",
    "\n",
    "variable_name = value or expression\n",
    "\n",
    "Now let's get coding!!. With the below block of code showing how to assign a string to\n",
    "variable."
   ]
  },
  {
   "cell_type": "code",
   "execution_count": 6,
   "id": "6f261581",
   "metadata": {},
   "outputs": [],
   "source": [
    "s = 'New York'"
   ]
  },
  {
   "cell_type": "code",
   "execution_count": 7,
   "id": "3d3b3588",
   "metadata": {},
   "outputs": [
    {
     "name": "stdout",
     "output_type": "stream",
     "text": [
      "New York\n"
     ]
    }
   ],
   "source": [
    "print(s)"
   ]
  },
  {
   "cell_type": "code",
   "execution_count": 8,
   "id": "1c9a0a68",
   "metadata": {},
   "outputs": [
    {
     "name": "stdout",
     "output_type": "stream",
     "text": [
      "<class 'str'>\n"
     ]
    }
   ],
   "source": [
    "print (type(s))"
   ]
  },
  {
   "cell_type": "code",
   "execution_count": 9,
   "id": "d47caf3c",
   "metadata": {},
   "outputs": [
    {
     "name": "stdout",
     "output_type": "stream",
     "text": [
      "8\n"
     ]
    }
   ],
   "source": [
    "print(len(s)) #what's the string length"
   ]
  },
  {
   "cell_type": "markdown",
   "id": "693d9403",
   "metadata": {},
   "source": [
    "## String Indexing"
   ]
  },
  {
   "cell_type": "markdown",
   "id": "5112d4c1",
   "metadata": {},
   "source": [
    "We know strings are a sequence, which means Python can use indexes to call parts of the\n",
    "sequence. Let's learn how this works.\n",
    "\n",
    "In Python, we use brackets [] after an object to call its index. We should also note that\n",
    "indexing starts at 0 for Python. Let's create a new object called s and the walk through a\n",
    "few examples of indexing."
   ]
  },
  {
   "cell_type": "code",
   "execution_count": 10,
   "id": "619dec6d",
   "metadata": {},
   "outputs": [],
   "source": [
    "#Assign s an a string\n",
    "s = 'Hello World'"
   ]
  },
  {
   "cell_type": "code",
   "execution_count": 11,
   "id": "721095cc",
   "metadata": {},
   "outputs": [
    {
     "name": "stdout",
     "output_type": "stream",
     "text": [
      "Hello World\n"
     ]
    }
   ],
   "source": [
    "#Print the object\n",
    "print(s)"
   ]
  },
  {
   "cell_type": "code",
   "execution_count": 12,
   "id": "e59216ab",
   "metadata": {},
   "outputs": [
    {
     "name": "stdout",
     "output_type": "stream",
     "text": [
      "\n"
     ]
    }
   ],
   "source": [
    "print()"
   ]
  },
  {
   "cell_type": "code",
   "execution_count": 13,
   "id": "c832ef31",
   "metadata": {},
   "outputs": [
    {
     "name": "stdout",
     "output_type": "stream",
     "text": [
      "H\n"
     ]
    }
   ],
   "source": [
    "#Show first element (in this case a letter)\n",
    "print (s[0])"
   ]
  },
  {
   "cell_type": "code",
   "execution_count": 14,
   "id": "67d67b5c",
   "metadata": {},
   "outputs": [
    {
     "name": "stdout",
     "output_type": "stream",
     "text": [
      "\n"
     ]
    }
   ],
   "source": [
    "print()"
   ]
  },
  {
   "cell_type": "code",
   "execution_count": 15,
   "id": "634bc9c4",
   "metadata": {},
   "outputs": [
    {
     "name": "stdout",
     "output_type": "stream",
     "text": [
      "e\n"
     ]
    }
   ],
   "source": [
    "#Show the second element (also a letter)\n",
    "print(s[1])"
   ]
  },
  {
   "cell_type": "markdown",
   "id": "f2fa318b",
   "metadata": {},
   "source": [
    "## String Concatenation and Repetition"
   ]
  },
  {
   "cell_type": "markdown",
   "id": "07c85c6b",
   "metadata": {},
   "source": [
    "__String Concatenation__ is a process to combine two strings. It is done using the '+' operator.\n",
    "\n",
    "__String Repetition__ is a process of repeating a same string multiple times\n",
    "\n",
    "The examples of the above concepts is as follows."
   ]
  },
  {
   "cell_type": "code",
   "execution_count": 16,
   "id": "df2491d6",
   "metadata": {},
   "outputs": [],
   "source": [
    "#concatenation (addition)"
   ]
  },
  {
   "cell_type": "code",
   "execution_count": 19,
   "id": "743a4249",
   "metadata": {},
   "outputs": [
    {
     "name": "stdout",
     "output_type": "stream",
     "text": [
      "Hello World\n"
     ]
    }
   ],
   "source": [
    "s1 = 'Hello'\n",
    "s2 = \"World\"\n",
    "print(s1 + \" \" + s2)"
   ]
  },
  {
   "cell_type": "code",
   "execution_count": 20,
   "id": "057a670e",
   "metadata": {},
   "outputs": [],
   "source": [
    "#repetition (multiplication)"
   ]
  },
  {
   "cell_type": "code",
   "execution_count": 21,
   "id": "227d6975",
   "metadata": {},
   "outputs": [
    {
     "name": "stdout",
     "output_type": "stream",
     "text": [
      "Hello_Hello_Hello_\n",
      "----------\n"
     ]
    }
   ],
   "source": [
    "print(\"Hello_\" * 3)\n",
    "print(\"-\" * 10)"
   ]
  },
  {
   "cell_type": "markdown",
   "id": "bbfa1ba7",
   "metadata": {},
   "source": [
    "## String Slicing & Indexing"
   ]
  },
  {
   "cell_type": "markdown",
   "id": "7a882dac",
   "metadata": {},
   "source": [
    "__String Indexing__ is used to to select the letter at a particular index/position.\n",
    "\n",
    "__String Slicing__ is a process to select a subset of an entire string\n",
    "\n",
    "The examples of the above stated are as follows"
   ]
  },
  {
   "cell_type": "code",
   "execution_count": 23,
   "id": "a3f3d9c8",
   "metadata": {},
   "outputs": [],
   "source": [
    "s = \"Namaste World\""
   ]
  },
  {
   "cell_type": "code",
   "execution_count": 24,
   "id": "eda7cc14",
   "metadata": {},
   "outputs": [
    {
     "name": "stdout",
     "output_type": "stream",
     "text": [
      "a\n",
      "e Wor\n",
      "Worl\n"
     ]
    }
   ],
   "source": [
    "#print sub strings \n",
    "print (s[1])    #This is indexing.\n",
    "print (s[6:11]) #This is known as slicing.\n",
    "print(s[-5:-1])"
   ]
  },
  {
   "cell_type": "code",
   "execution_count": 25,
   "id": "445d2c19",
   "metadata": {},
   "outputs": [
    {
     "name": "stdout",
     "output_type": "stream",
     "text": [
      "True\n"
     ]
    }
   ],
   "source": [
    "#test substring membership\n",
    "print(\"Wor\" in s)"
   ]
  },
  {
   "cell_type": "markdown",
   "id": "f74a34a3",
   "metadata": {},
   "source": [
    "Note the above slicing. Here we're telling Python to grab everything from 6 up to 10 and\n",
    "from fifth last to second last. You'll notice this a lot in Python, where statements and are\n",
    "usually in the context of \"up to, but not including\"."
   ]
  },
  {
   "cell_type": "markdown",
   "id": "f21ae27a",
   "metadata": {},
   "source": [
    "## Basic Built-in String methods"
   ]
  },
  {
   "cell_type": "markdown",
   "id": "6ec5d0e2",
   "metadata": {},
   "source": [
    "Objects in Python usually have built-in methods. These methods are functions inside the\n",
    "object (we will learn about these in much more depth later) that can perform actions or\n",
    "commands on the object itself.\n",
    "\n",
    "We call methods with a period and then the method name. Methods are in the form:\n",
    "    \n",
    "object.method(parameters)\n",
    "\n",
    "Where parameters are extra arguments we can pass into the method. Don't worry if the details don't make 100% sense right now.\n",
    "\n",
    "Later on we will be creating our own objects and functions!\n",
    "\n",
    "Here are some examples of built-in methods in strings:"
   ]
  },
  {
   "cell_type": "code",
   "execution_count": 26,
   "id": "f47edcbb",
   "metadata": {},
   "outputs": [],
   "source": [
    "s = \"Hello World\""
   ]
  },
  {
   "cell_type": "code",
   "execution_count": 31,
   "id": "a5565cfd",
   "metadata": {},
   "outputs": [
    {
     "name": "stdout",
     "output_type": "stream",
     "text": [
      "HELLO WORLD\n"
     ]
    }
   ],
   "source": [
    "print(s.upper()) ## Convert all the element of the string to Upper case..!!"
   ]
  },
  {
   "cell_type": "code",
   "execution_count": 32,
   "id": "bc872a4f",
   "metadata": {},
   "outputs": [
    {
     "name": "stdout",
     "output_type": "stream",
     "text": [
      "hello world\n"
     ]
    }
   ],
   "source": [
    "print(s.lower()) ## Convert all the element of the string to Lower case..!!"
   ]
  },
  {
   "cell_type": "markdown",
   "id": "ef0d6404",
   "metadata": {},
   "source": [
    "## Print Formatting"
   ]
  },
  {
   "cell_type": "markdown",
   "id": "1c00e85e",
   "metadata": {},
   "source": [
    "We can use the .format() method to add formatted objects to printed string statements.\n",
    "\n",
    "The easiest way to show this is through an example:"
   ]
  },
  {
   "cell_type": "code",
   "execution_count": 33,
   "id": "58098863",
   "metadata": {},
   "outputs": [],
   "source": [
    "name = \"Einstein\"\n",
    "age = 22\n",
    "married = True"
   ]
  },
  {
   "cell_type": "code",
   "execution_count": 34,
   "id": "409ffbb6",
   "metadata": {},
   "outputs": [
    {
     "name": "stdout",
     "output_type": "stream",
     "text": [
      "My name is Einstein, my age is 22, and it is True that I am married\n"
     ]
    }
   ],
   "source": [
    "print(\"My name is %s, my age is %s, and it is %s that I am married\" %\n",
    "(name, age, married))"
   ]
  },
  {
   "cell_type": "code",
   "execution_count": 36,
   "id": "81181652",
   "metadata": {},
   "outputs": [
    {
     "name": "stdout",
     "output_type": "stream",
     "text": [
      "My name is Einstein, my age is 22, and it is True that I am married\n"
     ]
    }
   ],
   "source": [
    "print(\"My name is {}, my age is {}, and it is {} that I am married\".format(name, age, married))"
   ]
  },
  {
   "cell_type": "markdown",
   "id": "916dc320",
   "metadata": {},
   "source": [
    "## Numbers"
   ]
  },
  {
   "cell_type": "markdown",
   "id": "83b9e093",
   "metadata": {},
   "source": [
    "Having worked with string we will turn our attention to numbers\n",
    "\n",
    "We'll learn about the following topics:\n",
    "\n",
    "1.) Types of Numbers in Python\n",
    "\n",
    "2.) Basic Arithmetic\n",
    "\n",
    "3.) Object Assignment in Python"
   ]
  },
  {
   "cell_type": "markdown",
   "id": "ecc9dd23",
   "metadata": {},
   "source": [
    "## Types of numbers"
   ]
  },
  {
   "cell_type": "markdown",
   "id": "ff568249",
   "metadata": {},
   "source": [
    "Python has various \"types\" of numbers (numeric literals). We'll mainly focus on integers\n",
    "and floating point numbers.\n",
    "\n",
    "Integers are just whole numbers, positive or negative. For example: 2 and -2 are examples\n",
    "of integers.\n",
    "\n",
    "Floating point numbers in Python are notable because they have a decimal point in them,\n",
    "or use an exponential (e) to define the number. For example 2.0 and -2.1 are examples of\n",
    "floating point numbers. 4E2 (4 times 10 to the power of 2) is also an example of a floating\n",
    "point number in Python.\n",
    "\n",
    "Throughout this course we will be mainly working with integers or simple float number\n",
    "types.\n",
    "\n",
    "Here is a table of the two main types we will spend most of our time working with some\n",
    "examples:\n",
    "    \n",
    "Now let's start with some basic arithmetic."
   ]
  },
  {
   "cell_type": "markdown",
   "id": "f145bba0",
   "metadata": {},
   "source": [
    "### Basic Arithmetic\n"
   ]
  },
  {
   "cell_type": "code",
   "execution_count": 39,
   "id": "9177a515",
   "metadata": {},
   "outputs": [
    {
     "name": "stdout",
     "output_type": "stream",
     "text": [
      "3\n"
     ]
    }
   ],
   "source": [
    "#Addition \n",
    "print(2+1)"
   ]
  },
  {
   "cell_type": "code",
   "execution_count": 40,
   "id": "f53be25e",
   "metadata": {},
   "outputs": [
    {
     "name": "stdout",
     "output_type": "stream",
     "text": [
      "1\n"
     ]
    }
   ],
   "source": [
    "# Subtraction\n",
    "print(2-1)"
   ]
  },
  {
   "cell_type": "code",
   "execution_count": 41,
   "id": "d472f831",
   "metadata": {},
   "outputs": [
    {
     "name": "stdout",
     "output_type": "stream",
     "text": [
      "4\n"
     ]
    }
   ],
   "source": [
    "# Multiplication\n",
    "print(2*2)"
   ]
  },
  {
   "cell_type": "code",
   "execution_count": 42,
   "id": "fc64894f",
   "metadata": {},
   "outputs": [
    {
     "name": "stdout",
     "output_type": "stream",
     "text": [
      "1.5\n"
     ]
    }
   ],
   "source": [
    "# Division\n",
    "print(3/2)"
   ]
  },
  {
   "cell_type": "markdown",
   "id": "9e74f801",
   "metadata": {},
   "source": [
    "### Arithmetic continued"
   ]
  },
  {
   "cell_type": "code",
   "execution_count": 43,
   "id": "4ec52e73",
   "metadata": {},
   "outputs": [
    {
     "data": {
      "text/plain": [
       "8"
      ]
     },
     "execution_count": 43,
     "metadata": {},
     "output_type": "execute_result"
    }
   ],
   "source": [
    "# Powers\n",
    "2**3"
   ]
  },
  {
   "cell_type": "code",
   "execution_count": 44,
   "id": "75f0fd26",
   "metadata": {},
   "outputs": [
    {
     "data": {
      "text/plain": [
       "105"
      ]
     },
     "execution_count": 44,
     "metadata": {},
     "output_type": "execute_result"
    }
   ],
   "source": [
    "# Order of Operations followed in Python\n",
    "2 + 10 * 10 + 3"
   ]
  },
  {
   "cell_type": "code",
   "execution_count": 45,
   "id": "de94e345",
   "metadata": {},
   "outputs": [
    {
     "data": {
      "text/plain": [
       "156"
      ]
     },
     "execution_count": 45,
     "metadata": {},
     "output_type": "execute_result"
    }
   ],
   "source": [
    "# Can use parenthesis to specify orders\n",
    "(2+10) * (10+3)"
   ]
  },
  {
   "cell_type": "markdown",
   "id": "981012a7",
   "metadata": {},
   "source": [
    "## Variable Assignments"
   ]
  },
  {
   "cell_type": "markdown",
   "id": "c255fe16",
   "metadata": {},
   "source": [
    "Now that we've seen how to use numbers in Python as a calculator let's see how we can\n",
    "assign names and create variables.\n",
    "\n",
    "We use a single equals sign to assign labels to variables. Let's see a few examples of how we\n",
    "can do this."
   ]
  },
  {
   "cell_type": "code",
   "execution_count": 46,
   "id": "3549a9f7",
   "metadata": {},
   "outputs": [],
   "source": [
    "# Let's create an object called \"a\" and assign it the number 5\n",
    "a = 5"
   ]
  },
  {
   "cell_type": "markdown",
   "id": "fcfb7a5a",
   "metadata": {},
   "source": [
    "Now if I call a in my Python script, Python will treat it as the number 5."
   ]
  },
  {
   "cell_type": "code",
   "execution_count": 47,
   "id": "88fec6db",
   "metadata": {},
   "outputs": [
    {
     "data": {
      "text/plain": [
       "10"
      ]
     },
     "execution_count": 47,
     "metadata": {},
     "output_type": "execute_result"
    }
   ],
   "source": [
    "# Adding the objects\n",
    "a+a"
   ]
  },
  {
   "cell_type": "markdown",
   "id": "fc018538",
   "metadata": {},
   "source": [
    "What happens on reassignment? Will Python let us write it over?"
   ]
  },
  {
   "cell_type": "code",
   "execution_count": 48,
   "id": "17590546",
   "metadata": {},
   "outputs": [],
   "source": [
    "# Reassignment\n",
    "a = 10"
   ]
  },
  {
   "cell_type": "code",
   "execution_count": 49,
   "id": "01669d6d",
   "metadata": {},
   "outputs": [
    {
     "data": {
      "text/plain": [
       "10"
      ]
     },
     "execution_count": 49,
     "metadata": {},
     "output_type": "execute_result"
    }
   ],
   "source": [
    "# Check\n",
    "a"
   ]
  }
 ],
 "metadata": {
  "kernelspec": {
   "display_name": "Python 3 (ipykernel)",
   "language": "python",
   "name": "python3"
  },
  "language_info": {
   "codemirror_mode": {
    "name": "ipython",
    "version": 3
   },
   "file_extension": ".py",
   "mimetype": "text/x-python",
   "name": "python",
   "nbconvert_exporter": "python",
   "pygments_lexer": "ipython3",
   "version": "3.9.7"
  }
 },
 "nbformat": 4,
 "nbformat_minor": 5
}
