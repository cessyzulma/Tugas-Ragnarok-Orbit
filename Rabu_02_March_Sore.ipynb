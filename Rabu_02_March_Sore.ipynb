{
 "cells": [
  {
   "cell_type": "code",
   "execution_count": 9,
   "id": "b8dc7933",
   "metadata": {},
   "outputs": [
    {
     "name": "stdout",
     "output_type": "stream",
     "text": [
      "input m: 4\n",
      "input n: 8\n",
      "m not divisible by n\n"
     ]
    }
   ],
   "source": [
    "# No. 1)\n",
    "def isDivisible (m,n):\n",
    "    if(m%n == 0):\n",
    "        return True\n",
    "    else:\n",
    "        return False\n",
    "x = input('input m: ')\n",
    "y = input('input n: ')\n",
    "if(isDivisible(int(x), int(y))):\n",
    "    print('m divisible by n')\n",
    "else:\n",
    "    print('m not divisible by n')"
   ]
  },
  {
   "cell_type": "code",
   "execution_count": 11,
   "id": "cfad7df4",
   "metadata": {},
   "outputs": [
    {
     "name": "stdout",
     "output_type": "stream",
     "text": [
      "1. Soup and Salad\n",
      "2. Pasta with meat salad\n",
      "3. Chef's special\n",
      "which number would you like to order? :1\n",
      "One Soup and Salad coming right up!\n"
     ]
    }
   ],
   "source": [
    "# No. 2)\n",
    "def menu():\n",
    "    print(\"1. Soup and Salad\")\n",
    "    print(\"2. Pasta with meat salad\")\n",
    "    print(\"3. Chef's special\")\n",
    "    a = input(\"which number would you like to order? :\")\n",
    "    if(int(a) == 1):\n",
    "        print(\"One Soup and Salad coming right up!\")\n",
    "    elif(int(a) == 2):\n",
    "        print(\"One pasta with meat salad coming right up!\")\n",
    "    elif(int(a) == 3):\n",
    "        print(\"One Chef's special coming right up!\")\n",
    "    else :\n",
    "        print(\"Sorry, that is not a valid choice.\")\n",
    "menu()"
   ]
  },
  {
   "cell_type": "code",
   "execution_count": 12,
   "id": "e5121e4c",
   "metadata": {},
   "outputs": [
    {
     "name": "stdout",
     "output_type": "stream",
     "text": [
      "1. Soup and Salad\n",
      "2. Pasta with meat salad\n",
      "3. Chef's special\n",
      "which number would you like to order? :5\n",
      "Sorry, that is not a valid choice.\n"
     ]
    }
   ],
   "source": [
    "# No. 2)\n",
    "# if you choose wrong number, it will show the answer like \"Sorry, that is not a valid choice.\"\n",
    "def menu():\n",
    "    print(\"1. Soup and Salad\")\n",
    "    print(\"2. Pasta with meat salad\")\n",
    "    print(\"3. Chef's special\")\n",
    "    a = input(\"which number would you like to order? :\")\n",
    "    if(int(a) == 1):\n",
    "        print(\"One Soup and Salad coming right up!\")\n",
    "    elif(int(a) == 2):\n",
    "        print(\"One pasta with meat salad coming right up!\")\n",
    "    elif(int(a) == 3):\n",
    "        print(\"One Chef's special coming right up!\")\n",
    "    else :\n",
    "        print(\"Sorry, that is not a valid choice.\")\n",
    "menu()"
   ]
  },
  {
   "cell_type": "code",
   "execution_count": 13,
   "id": "8f51fafc",
   "metadata": {},
   "outputs": [
    {
     "name": "stdout",
     "output_type": "stream",
     "text": [
      "some random integer between 0 - 100 are not divisible by 3\n"
     ]
    }
   ],
   "source": [
    "# No. 3)\n",
    "import random as r\n",
    "def rand_divis_3():\n",
    "    if(r.randint(0,100) % 3 == 0):\n",
    "        return True\n",
    "    else:\n",
    "        return False\n",
    "if(rand_divis_3()):\n",
    "    print(\"some random integer between 0 - 100 are divisible by 3\")\n",
    "else:\n",
    "    print(\"some random integer between 0 - 100 are not divisible by 3\")"
   ]
  },
  {
   "cell_type": "code",
   "execution_count": 23,
   "id": "85357453",
   "metadata": {},
   "outputs": [
    {
     "name": "stdout",
     "output_type": "stream",
     "text": [
      "input c:8\n",
      "input d:8\n",
      "c equal d\n"
     ]
    }
   ],
   "source": [
    "# No.4)\n",
    "def isNOt(a,b):\n",
    "    if(a == b):\n",
    "        return False\n",
    "    else:\n",
    "        return True\n",
    "c = input(\"input c:\")\n",
    "d = input(\"input d:\")\n",
    "if(isNot(c,d)):\n",
    "    print(\"c is not d\")\n",
    "else:\n",
    "    print(\"c equal d\")"
   ]
  },
  {
   "cell_type": "code",
   "execution_count": 29,
   "id": "9fa85ead",
   "metadata": {},
   "outputs": [
    {
     "name": "stdout",
     "output_type": "stream",
     "text": [
      "Enter your name :nurul\n",
      "Your name is nurul\n"
     ]
    }
   ],
   "source": [
    "# No.5)\n",
    "def ask_name():\n",
    "    name = input(\"Enter your name :\")\n",
    "    return name\n",
    "print(\"Your name is\", ask_name())\n",
    "    "
   ]
  },
  {
   "cell_type": "code",
   "execution_count": null,
   "id": "f631b8bb",
   "metadata": {},
   "outputs": [],
   "source": []
  }
 ],
 "metadata": {
  "kernelspec": {
   "display_name": "Python 3 (ipykernel)",
   "language": "python",
   "name": "python3"
  },
  "language_info": {
   "codemirror_mode": {
    "name": "ipython",
    "version": 3
   },
   "file_extension": ".py",
   "mimetype": "text/x-python",
   "name": "python",
   "nbconvert_exporter": "python",
   "pygments_lexer": "ipython3",
   "version": "3.9.7"
  }
 },
 "nbformat": 4,
 "nbformat_minor": 5
}
