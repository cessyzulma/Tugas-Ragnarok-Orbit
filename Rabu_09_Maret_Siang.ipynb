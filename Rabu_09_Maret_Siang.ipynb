{
 "cells": [
  {
   "cell_type": "markdown",
   "id": "97951eff",
   "metadata": {},
   "source": [
    "## Module 2: Data Analytics with Python - Statistics\n"
   ]
  },
  {
   "cell_type": "markdown",
   "id": "0def33d1",
   "metadata": {},
   "source": [
    "### About Libraries for Statistics\n",
    "---"
   ]
  },
  {
   "cell_type": "markdown",
   "id": "45daf526",
   "metadata": {},
   "source": [
    "### NUMPY\n",
    "NumPy is short for \"Numerical Python\". It is used to work with arrays. In Python we have lists that serve the purpose of arrays, but they are slow to process. NumPy aims to provide an array object that is twice faster then traditional Python lists."
   ]
  },
  {
   "cell_type": "markdown",
   "id": "3f29b447",
   "metadata": {},
   "source": [
    "### SCIPY\n",
    "SciPy is a free and open-source Python library used for scientific computing and technical computing. SciPy contains modules for optimization, linear algebra, integration, interpolation, special functions, FFT, signal and image processing, ODE solvers and other tasks common in science and engineering."
   ]
  },
  {
   "cell_type": "code",
   "execution_count": 1,
   "id": "e11eeecd",
   "metadata": {},
   "outputs": [
    {
     "name": "stdout",
     "output_type": "stream",
     "text": [
      "Requirement already satisfied: numpy in c:\\users\\nurul\\anaconda3\\lib\\site-packages (1.20.3)\n",
      "Requirement already satisfied: scipy in c:\\users\\nurul\\anaconda3\\lib\\site-packages (1.7.1)\n",
      "Requirement already satisfied: numpy<1.23.0,>=1.16.5 in c:\\users\\nurul\\anaconda3\\lib\\site-packages (from scipy) (1.20.3)\n"
     ]
    }
   ],
   "source": [
    "import sys\n",
    "\n",
    "# run this cell to install numpy\n",
    "!{sys.executable} -m pip install numpy\n",
    "\n",
    "# run this cell to install scipy\n",
    "!{sys.executable} -m pip install scipy"
   ]
  },
  {
   "cell_type": "code",
   "execution_count": 2,
   "id": "3a7e7bd6",
   "metadata": {},
   "outputs": [],
   "source": [
    "import sys\n",
    "import scipy"
   ]
  },
  {
   "cell_type": "markdown",
   "id": "b3e76ea1",
   "metadata": {},
   "source": [
    "### Objevtive\n",
    " ---"
   ]
  },
  {
   "cell_type": "markdown",
   "id": "98ffcf50",
   "metadata": {},
   "source": [
    "- __Measures of Central Tendency__\n",
    "\n",
    "    - Mean\n",
    "    - Median\n",
    "    - Mode\n",
    "\n",
    "- __Measures Of Spread__\n",
    " \n",
    "     - Range\n",
    "     - Quartiles and Interquartile range\n",
    "     - Percentile\n",
    "     - Variance\n",
    "     - Standard deviation\n",
    "\n",
    "- __Correlation v/s Causation__\n",
    "- __Kurtosis__\n",
    "- __Skewness__\n",
    "- __Eigen Vectors__"
   ]
  },
  {
   "cell_type": "code",
   "execution_count": 3,
   "id": "6792fea9",
   "metadata": {},
   "outputs": [],
   "source": [
    "import numpy as np\n",
    "\n",
    "# Creating a Basic Array in Numpy\n",
    "X=np.array([2,5,7,4,4])"
   ]
  },
  {
   "cell_type": "markdown",
   "id": "39e5ccb2",
   "metadata": {},
   "source": [
    "### Measures of Central Tendency\n",
    "---"
   ]
  },
  {
   "cell_type": "markdown",
   "id": "5b99b6c9",
   "metadata": {},
   "source": [
    "The measure of central tendency is the commonly used method to identify the centre of the data set. Used to describe a data set by identifying the central position within that data set.\n",
    "\n",
    "Mean, Median and Mode"
   ]
  },
  {
   "cell_type": "markdown",
   "id": "055c707b",
   "metadata": {},
   "source": [
    "### MEAN\n",
    "---"
   ]
  },
  {
   "cell_type": "markdown",
   "id": "e0c69d20",
   "metadata": {},
   "source": [
    "The most popular measure of central tendency. ​ It is also referred to as the average value in the data set. ​Defined as the sum of all values in a data set, divided by the total number of values in a data set.​"
   ]
  },
  {
   "cell_type": "code",
   "execution_count": 4,
   "id": "4448f059",
   "metadata": {},
   "outputs": [
    {
     "name": "stdout",
     "output_type": "stream",
     "text": [
      "Data [2 5 7 4 4]\n",
      "Mean: 4.4\n"
     ]
    }
   ],
   "source": [
    "#Mean menggunakan numpy\n",
    "print(\"Data\",X)\n",
    "print(\"Mean:\",np.mean(X))"
   ]
  },
  {
   "cell_type": "markdown",
   "id": "15b69b25",
   "metadata": {},
   "source": [
    "### MEDIAN\n",
    "---"
   ]
  },
  {
   "attachments": {
    "image.png": {
     "image/png": "[encoded data removed]"
    }
   },
   "cell_type": "markdown",
   "id": "fe1b3bda",
   "metadata": {},
   "source": [
    "Median is the middle value of an ordered data set. If there are a total of n values. Then median is -\n",
    "![image.png](attachment:image.png)"
   ]
  },
  {
   "cell_type": "code",
   "execution_count": 5,
   "id": "9461e1f7",
   "metadata": {},
   "outputs": [
    {
     "name": "stdout",
     "output_type": "stream",
     "text": [
      "Data [2 5 7 4 4]\n",
      "Median 4.0\n"
     ]
    }
   ],
   "source": [
    "# Finding Median of X\n",
    "print(\"Data\",X)\n",
    "print(\"Median\",np.median(X))"
   ]
  },
  {
   "cell_type": "markdown",
   "id": "85c10726",
   "metadata": {},
   "source": [
    "### MODE\n",
    "---"
   ]
  },
  {
   "cell_type": "markdown",
   "id": "a084edda",
   "metadata": {},
   "source": [
    "1. Most frequently occurring value in the data set, i.e. value of the random sample that occurs with the greatest frequency.\n",
    "2. It is applicable to all levels of data measurement, i.e., nominal, ordinal, interval and ratio scales."
   ]
  },
  {
   "cell_type": "code",
   "execution_count": 6,
   "id": "a2484856",
   "metadata": {},
   "outputs": [
    {
     "data": {
      "text/plain": [
       "(array([2, 4, 5, 7]), array([1, 2, 1, 1], dtype=int64))"
      ]
     },
     "execution_count": 6,
     "metadata": {},
     "output_type": "execute_result"
    }
   ],
   "source": [
    "np.unique(X, return_counts=True)\n"
   ]
  },
  {
   "cell_type": "code",
   "execution_count": 7,
   "id": "7f3ea805",
   "metadata": {},
   "outputs": [
    {
     "name": "stdout",
     "output_type": "stream",
     "text": [
      "Data [2 5 7 4 4]\n"
     ]
    },
    {
     "data": {
      "text/plain": [
       "(array([2, 4, 5, 7]), array([1, 2, 1, 1], dtype=int64))"
      ]
     },
     "execution_count": 7,
     "metadata": {},
     "output_type": "execute_result"
    }
   ],
   "source": [
    "# Finding Mode using numpy\n",
    "print(\"Data\",X)\n",
    "val, count = np.unique(X, return_counts=True)\n",
    "val, count"
   ]
  },
  {
   "cell_type": "code",
   "execution_count": 8,
   "id": "f7ec98e8",
   "metadata": {},
   "outputs": [
    {
     "data": {
      "text/plain": [
       "array([1, 2, 1, 1], dtype=int64)"
      ]
     },
     "execution_count": 8,
     "metadata": {},
     "output_type": "execute_result"
    }
   ],
   "source": [
    "count"
   ]
  },
  {
   "cell_type": "code",
   "execution_count": 9,
   "id": "d22fd57f",
   "metadata": {},
   "outputs": [
    {
     "name": "stdout",
     "output_type": "stream",
     "text": [
      "Index:  1\n",
      "Mode numpy: 4\n"
     ]
    }
   ],
   "source": [
    "index = np.argmax(count)\n",
    "print(\"Index: \", index)\n",
    "print(\"Mode numpy:\",val[index])"
   ]
  },
  {
   "cell_type": "code",
   "execution_count": 10,
   "id": "815d83c0",
   "metadata": {},
   "outputs": [
    {
     "name": "stdout",
     "output_type": "stream",
     "text": [
      "Mode scipy: ModeResult(mode=array([4]), count=array([2]))\n"
     ]
    }
   ],
   "source": [
    "# Finding Mode using Scipy\n",
    "\n",
    "from scipy import stats\n",
    "\n",
    "print(\"Mode scipy:\",stats.mode(X))\n",
    "modus = stats.mode(X)"
   ]
  },
  {
   "cell_type": "code",
   "execution_count": 11,
   "id": "1a2546c8",
   "metadata": {},
   "outputs": [
    {
     "data": {
      "text/plain": [
       "ModeResult(mode=array([4]), count=array([2]))"
      ]
     },
     "execution_count": 11,
     "metadata": {},
     "output_type": "execute_result"
    }
   ],
   "source": [
    "modus"
   ]
  },
  {
   "cell_type": "markdown",
   "id": "34d520c1",
   "metadata": {},
   "source": [
    "### Measures of Spread\n",
    "---"
   ]
  },
  {
   "cell_type": "markdown",
   "id": "c1911153",
   "metadata": {},
   "source": [
    "A measure of how the data is dispersed or spread around the mean, i.e. the average. It is used in quantitative data, as the variables can be arranged in a logical order, with a low and high value.\n",
    "\n",
    "Spread can be measured in-\n",
    "\n",
    "    1. Range\n",
    "    2. Quartiles and Interquartile range\n",
    "    3. Percentile\n",
    "    4. Variance\n",
    "    5. Standard deviation"
   ]
  },
  {
   "cell_type": "markdown",
   "id": "87a19a12",
   "metadata": {},
   "source": [
    "### RANGE\n",
    "---"
   ]
  },
  {
   "cell_type": "markdown",
   "id": "699bae7f",
   "metadata": {},
   "source": [
    "1. It is the simplest measure of variability. \n",
    "2. The distance between the smallest value and the largest value in a dataset. \n"
   ]
  },
  {
   "attachments": {
    "image.png": {
     "image/png": "[encoded data removed]"
    }
   },
   "cell_type": "markdown",
   "id": "d548849a",
   "metadata": {},
   "source": [
    "![image.png](attachment:image.png)"
   ]
  },
  {
   "cell_type": "code",
   "execution_count": 13,
   "id": "c980a5eb",
   "metadata": {},
   "outputs": [
    {
     "name": "stdout",
     "output_type": "stream",
     "text": [
      "Data  [2 5 7 4 4]\n",
      "Range  5\n"
     ]
    }
   ],
   "source": [
    "# Calculating the Range\n",
    "print(\"Data \",X)\n",
    "print(\"Range \",X.max()-X.min())"
   ]
  },
  {
   "cell_type": "markdown",
   "id": "4dd8a8a1",
   "metadata": {},
   "source": [
    "### QUARTILES AND IQR(Interquartile Range)\n",
    "---"
   ]
  },
  {
   "cell_type": "markdown",
   "id": "feef1fc6",
   "metadata": {},
   "source": [
    "1. Q1 is the \"middle\" value in the first half of the rank-ordered data set.\n",
    "2. Q2 is the median value in the set.\n",
    "3. Q3 is the \"middle\" value in the second half of the rank-ordered data set.\n",
    "4. The interquartile range is calculated as: Upper Quartile – Lower Quartile."
   ]
  },
  {
   "cell_type": "code",
   "execution_count": 15,
   "id": "91596bdc",
   "metadata": {},
   "outputs": [
    {
     "name": "stdout",
     "output_type": "stream",
     "text": [
      "Data [ 5  3  4  8  5  8  7 11]\n",
      "\n",
      "Quartile 1: 4.5\n",
      "Quartile 2: 6.0\n",
      "Quartile 3: 8.0\n",
      "\n",
      "Interquartile Range 3.5\n"
     ]
    }
   ],
   "source": [
    "# Defining Data\n",
    "data1=np.array([5, 3, 4, 8, 5, 8, 7, 11])\n",
    "print(\"Data\",data1)\n",
    "\n",
    "# First quartile (Q1)\n",
    "Q1 = np.quantile(data1, .25, interpolation = 'midpoint')\n",
    "print(\"\\nQuartile 1:\",Q1)\n",
    " \n",
    "# Second quartile (Q2)\n",
    "Q2 = np.quantile(data1, .50, interpolation = 'midpoint')\n",
    "print(\"Quartile 2:\",Q2)\n",
    "\n",
    "# Third quartile (Q3)\n",
    "Q3 = np.quantile(data1, .75, interpolation = 'midpoint')\n",
    "print(\"Quartile 3:\",Q3)\n",
    "\n",
    "# Interquaritle range (IQR)\n",
    "IQR = Q3 - Q1\n",
    "print(\"\\nInterquartile Range\",IQR)"
   ]
  },
  {
   "cell_type": "markdown",
   "id": "97213dd0",
   "metadata": {},
   "source": [
    "### PERCENTILES\n",
    "---"
   ]
  },
  {
   "cell_type": "markdown",
   "id": "7e32ac58",
   "metadata": {},
   "source": [
    "The percentile usually indicates that a certain percentage falls below that percentile. For example, if you score in the 25th percentile, then 25% of test takers are below your score. The “25” is called the percentile rank.\n",
    "\n"
   ]
  },
  {
   "cell_type": "code",
   "execution_count": 16,
   "id": "c033cbb3",
   "metadata": {},
   "outputs": [
    {
     "name": "stdout",
     "output_type": "stream",
     "text": [
      "Data [ 5  3  4  8  5  8  7 11]\n",
      "20th Percentile: 4.4\n"
     ]
    }
   ],
   "source": [
    "print(\"Data\",data1)\n",
    "percentile_20 = np.percentile(data1,20)\n",
    "print(\"20th Percentile:\",round(percentile_20,2))"
   ]
  },
  {
   "cell_type": "markdown",
   "id": "b2a1c65f",
   "metadata": {},
   "source": [
    "### VARIANCE AND STANDARD DEVIATION\n",
    "---"
   ]
  },
  {
   "cell_type": "markdown",
   "id": "7bbea5b6",
   "metadata": {},
   "source": [
    "Variance is a measure of how the spread-out a data set is. \n"
   ]
  },
  {
   "cell_type": "code",
   "execution_count": 17,
   "id": "fdd7691f",
   "metadata": {},
   "outputs": [
    {
     "name": "stdout",
     "output_type": "stream",
     "text": [
      "Data [ 1  3  4  5  5  6  7 11]\n",
      "Varaince: 8.785714285714286\n",
      "Standard Deviation: 2.7726341266023544\n",
      "Standard Deviation: 2.9640705601780613\n"
     ]
    }
   ],
   "source": [
    "import numpy as np\n",
    "\n",
    "data1=np.array([1, 3, 4, 5, 5, 6, 7, 11])\n",
    "\n",
    "print(\"Data\",data1)\n",
    "\n",
    "'''\n",
    "    \"Delta Degrees of Freedom\": the divisor used in the calculation is\n",
    "    ``N - ddof``, where ``N`` represents the number of elements. By\n",
    "    default `ddof` is zero.\n",
    "'''\n",
    "print(\"Varaince:\",np.var(data1,ddof=1))\n",
    "print(\"Standard Deviation:\",np.std(data1,ddof=0)) # populasi\n",
    "print(\"Standard Deviation:\",np.std(data1,ddof=1)) # sampel"
   ]
  },
  {
   "cell_type": "code",
   "execution_count": 18,
   "id": "882b9b64",
   "metadata": {},
   "outputs": [
    {
     "name": "stdout",
     "output_type": "stream",
     "text": [
      "Nilai Mean E :  78.0\n",
      "Nilai Range E : 40\n",
      "Nilai Varians E : 116.0\n",
      "Nilai Standart Deviasi E:  10.770329614269007\n",
      "Nilai Standart Deviasi E:  11.352924243950934\n"
     ]
    }
   ],
   "source": [
    "import numpy as np\n",
    "import statistics\n",
    "\n",
    "E = [60,70,70,70,80,80,80,80,90,100]\n",
    "F = [75,75,75,75,80,80,80,80,80,80]\n",
    "\n",
    "# mean\n",
    "print(\"Nilai Mean E : \", np.mean(E))\n",
    "\n",
    "# range\n",
    "print(\"Nilai Range E :\", np.max(E) - np.min(E))\n",
    "\n",
    "# varians\n",
    "print(\"Nilai Varians E :\", np.var(E))\n",
    "\n",
    "# Standart Deviasi\n",
    "print(\"Nilai Standart Deviasi E: \", np.std(E)) # std populasi\n",
    "print(\"Nilai Standart Deviasi E: \", statistics.stdev(E)) # std sampel, bisa pakai pst.dev untuk populasi"
   ]
  },
  {
   "cell_type": "markdown",
   "id": "841fb935",
   "metadata": {},
   "source": [
    "### COVARIANCE AND CORRELATION\n",
    "---"
   ]
  },
  {
   "attachments": {
    "image.png": {
     "image/png": "[encoded data removed]"
    }
   },
   "cell_type": "markdown",
   "id": "ed19cc0b",
   "metadata": {},
   "source": [
    "COVARIANCE\n",
    "\n",
    "1. Covariance is a statistical technique used for determining the relationship between the movement of two random variables. In short, how much two random variables change together. \n",
    "\n",
    "\n",
    "2. Provides a measure of the strength of the correlation between two or more sets of random variates.\n",
    "\n",
    "\n",
    "3. Example: Let E(x) be the expected value of a given variable x, and E(y) be the expected value of variable y, then the covariance between x and y is given by:\n",
    "\n",
    "![image.png](attachment:image.png)\n",
    "\n",
    "- If COV(x, y) = 0 then variables are uncorrelated\n",
    "- If COV(x, y) > 0 then variables positively correlated\n",
    "- If COV(x, y) < 0 then variables negatively correlated\n",
    "\n"
   ]
  },
  {
   "cell_type": "code",
   "execution_count": 19,
   "id": "c831fd58",
   "metadata": {},
   "outputs": [
    {
     "name": "stdout",
     "output_type": "stream",
     "text": [
      "[1 2 3 4 5 6 7 8 9]\n",
      "[9 8 7 6 5 4 3 2 1]\n",
      "\n",
      "Covariance  -7.5\n"
     ]
    }
   ],
   "source": [
    "x = np.array([1,2,3,4,5,6,7,8,9])\n",
    "print(x)\n",
    "y = np.array([9,8,7,6,5,4,3,2,1])\n",
    "print(y)\n",
    "\n",
    "print(\"\\nCovariance \",np.cov(x,y)[0,1])"
   ]
  },
  {
   "cell_type": "markdown",
   "id": "613a7d07",
   "metadata": {},
   "source": [
    "### CORRELATION\n",
    "---"
   ]
  },
  {
   "attachments": {
    "image.png": {
     "image/png": "[encoded data removed]"
    }
   },
   "cell_type": "markdown",
   "id": "e9563acb",
   "metadata": {},
   "source": [
    "1. It is the measure of the strength of the relation between two variables. How strongly two variables are connected is defined as the correlation. \n",
    "\n",
    "\n",
    "2. It depends upon two variables, change in one variable effect a change in second variable.\n",
    "\n",
    "\n",
    "3. Its value lies in the range of -1 and +1. r is called the Pearson's correlation coefficient.\n",
    "\n",
    "\n",
    "4. Is related to covariance by the given formula:\n",
    "\n",
    "![image.png](attachment:image.png)\n",
    "\n",
    "- A correlation coefficient greater than zero indicates a positive relationship while a value less than zero signifies a negative relationship.\n",
    "\n",
    "- A value of zero indicates no relationship between the two variables being compared."
   ]
  },
  {
   "cell_type": "code",
   "execution_count": 20,
   "id": "3d7e9322",
   "metadata": {},
   "outputs": [
    {
     "name": "stdout",
     "output_type": "stream",
     "text": [
      "[[ 1. -1.]\n",
      " [-1.  1.]]\n"
     ]
    }
   ],
   "source": [
    "# Return a correlation coefficient matrix\n",
    "print(np.corrcoef(x,y))"
   ]
  },
  {
   "cell_type": "markdown",
   "id": "0aeff227",
   "metadata": {},
   "source": [
    "### KURTOSIS\n",
    "---"
   ]
  },
  {
   "cell_type": "markdown",
   "id": "a803b6ce",
   "metadata": {},
   "source": [
    "1. Measure of how tall and sharp the central peak is, relative to a standard bell curve.\n",
    "\n",
    "\n",
    "2. Also called as the measure of tailedness of a data distribution."
   ]
  },
  {
   "cell_type": "code",
   "execution_count": 21,
   "id": "29dfe63e",
   "metadata": {},
   "outputs": [
    {
     "name": "stdout",
     "output_type": "stream",
     "text": [
      "Kurtosis -1.2002400240024003\n"
     ]
    }
   ],
   "source": [
    "data2=np.linspace(-10,10,100)\n",
    "print(\"Kurtosis\",stats.kurtosis(data2))"
   ]
  },
  {
   "cell_type": "code",
   "execution_count": 22,
   "id": "81369eb4",
   "metadata": {},
   "outputs": [
    {
     "data": {
      "text/plain": [
       "array([-10.        ,  -9.7979798 ,  -9.5959596 ,  -9.39393939,\n",
       "        -9.19191919,  -8.98989899,  -8.78787879,  -8.58585859,\n",
       "        -8.38383838,  -8.18181818,  -7.97979798,  -7.77777778,\n",
       "        -7.57575758,  -7.37373737,  -7.17171717,  -6.96969697,\n",
       "        -6.76767677,  -6.56565657,  -6.36363636,  -6.16161616,\n",
       "        -5.95959596,  -5.75757576,  -5.55555556,  -5.35353535,\n",
       "        -5.15151515,  -4.94949495,  -4.74747475,  -4.54545455,\n",
       "        -4.34343434,  -4.14141414,  -3.93939394,  -3.73737374,\n",
       "        -3.53535354,  -3.33333333,  -3.13131313,  -2.92929293,\n",
       "        -2.72727273,  -2.52525253,  -2.32323232,  -2.12121212,\n",
       "        -1.91919192,  -1.71717172,  -1.51515152,  -1.31313131,\n",
       "        -1.11111111,  -0.90909091,  -0.70707071,  -0.50505051,\n",
       "        -0.3030303 ,  -0.1010101 ,   0.1010101 ,   0.3030303 ,\n",
       "         0.50505051,   0.70707071,   0.90909091,   1.11111111,\n",
       "         1.31313131,   1.51515152,   1.71717172,   1.91919192,\n",
       "         2.12121212,   2.32323232,   2.52525253,   2.72727273,\n",
       "         2.92929293,   3.13131313,   3.33333333,   3.53535354,\n",
       "         3.73737374,   3.93939394,   4.14141414,   4.34343434,\n",
       "         4.54545455,   4.74747475,   4.94949495,   5.15151515,\n",
       "         5.35353535,   5.55555556,   5.75757576,   5.95959596,\n",
       "         6.16161616,   6.36363636,   6.56565657,   6.76767677,\n",
       "         6.96969697,   7.17171717,   7.37373737,   7.57575758,\n",
       "         7.77777778,   7.97979798,   8.18181818,   8.38383838,\n",
       "         8.58585859,   8.78787879,   8.98989899,   9.19191919,\n",
       "         9.39393939,   9.5959596 ,   9.7979798 ,  10.        ])"
      ]
     },
     "execution_count": 22,
     "metadata": {},
     "output_type": "execute_result"
    }
   ],
   "source": [
    "data2"
   ]
  },
  {
   "cell_type": "markdown",
   "id": "a5e4b15c",
   "metadata": {},
   "source": [
    "### SKEWNESS\n",
    "---"
   ]
  },
  {
   "cell_type": "markdown",
   "id": "d74cdd03",
   "metadata": {},
   "source": [
    "The amount and direction of skew in data distribution, i.e. deviation from the horizontal symmetry. The following is an example of finding skewness.\n",
    "\n"
   ]
  },
  {
   "cell_type": "code",
   "execution_count": 23,
   "id": "5ec3d538",
   "metadata": {},
   "outputs": [
    {
     "data": {
      "text/html": [
       "<script>\n",
       "code_show=true; \n",
       "function code_toggle() {\n",
       "    if (code_show){\n",
       "        $('div.cell.code_cell.rendered.selected div.input').hide();\n",
       "    } else {\n",
       "        $('div.cell.code_cell.rendered.selected div.input').show();\n",
       "    }\n",
       "    code_show = !code_show\n",
       "} \n",
       "$( document ).ready(code_toggle);\n",
       "</script>\n",
       "To show/hide this cell's raw code input, click <a href=\"javascript:code_toggle()\">here</a>."
      ],
      "text/plain": [
       "<IPython.core.display.HTML object>"
      ]
     },
     "metadata": {},
     "output_type": "display_data"
    },
    {
     "data": {
      "image/png": "[encoded data removed]",
      "text/plain": [
       "<Figure size 432x288 with 1 Axes>"
      ]
     },
     "metadata": {
      "needs_background": "light"
     },
     "output_type": "display_data"
    }
   ],
   "source": [
    "from IPython.display import HTML\n",
    "from IPython.display import display\n",
    "\n",
    "# Taken from https://stackoverflow.com/questions/31517194/how-to-hide-one-specific-cell-input-or-output-in-ipython-notebook\n",
    "tag = HTML('''<script>\n",
    "code_show=true; \n",
    "function code_toggle() {\n",
    "    if (code_show){\n",
    "        $('div.cell.code_cell.rendered.selected div.input').hide();\n",
    "    } else {\n",
    "        $('div.cell.code_cell.rendered.selected div.input').show();\n",
    "    }\n",
    "    code_show = !code_show\n",
    "} \n",
    "$( document ).ready(code_toggle);\n",
    "</script>\n",
    "To show/hide this cell's raw code input, click <a href=\"javascript:code_toggle()\">here</a>.''')\n",
    "display(tag)\n",
    "\n",
    "\n",
    "\n",
    "from scipy.stats import skewnorm\n",
    "import matplotlib.pyplot as plt\n",
    "\n",
    "numValues = 10000\n",
    "maxValue = 100\n",
    "skewness = -5   #Negative values are left skewed, positive values are right skewed.\n",
    "\n",
    "random = skewnorm.rvs(a = skewness,loc=maxValue, size=numValues)  #Skewnorm function\n",
    "\n",
    "random = random - min(random)      #Shift the set so the minimum value is equal to zero.\n",
    "random = random / max(random)      #Standadize all the vlues between 0 and 1. \n",
    "random = random * maxValue         #Multiply the standardized values by the maximum value.\n",
    "\n",
    "#Plot histogram to check skewness\n",
    "plt.hist(random,30,density=True, color = 'red', alpha=0.1)\n",
    "plt.show()"
   ]
  },
  {
   "cell_type": "code",
   "execution_count": 24,
   "id": "ab95f793",
   "metadata": {},
   "outputs": [
    {
     "name": "stdout",
     "output_type": "stream",
     "text": [
      "Skewness -2.8663736585314984e-17\n"
     ]
    }
   ],
   "source": [
    "print(\"Skewness\",stats.skew(data2))"
   ]
  },
  {
   "cell_type": "markdown",
   "id": "4942d04f",
   "metadata": {},
   "source": [
    "### Eigen Vector\n",
    "---"
   ]
  },
  {
   "cell_type": "markdown",
   "id": "8ecb6ba0",
   "metadata": {},
   "source": [
    "LetA be an nXn matrix (SquareMatrix).\n",
    "\n",
    "1. An eigen vector of A is a non zero vector v in Rn such that Av=λv,for some scalar λ.\n",
    "2. An eigenvalue of A is a scalar λ such that the equation Av=λv has a non trivial solution.\n",
    "\n",
    "If Av=λv for v not equal to 0,we say that λ is the eigenvalue for v,and that v is aneigenvector for λ.\n",
    "\n",
    "The German prefix “eigen” roughly translates to “self” or “own”. An eigenvector ofAis a vector that is taken to a multiple of itself by the matrix transformationT(x)=Ax,which perhaps explains the terminology. On the other hand, “eigen” is often translated as “characteristic”; we may think of an eigenvector as describing an intrinsic, or characteristic, property ofA.\n",
    "\n",
    "Note-Eigenvalues and eigenvectors are only for square matrices."
   ]
  },
  {
   "cell_type": "code",
   "execution_count": 25,
   "id": "c6973785",
   "metadata": {},
   "outputs": [
    {
     "data": {
      "text/plain": [
       "matrix([[5, 6, 0],\n",
       "        [3, 7, 5],\n",
       "        [5, 6, 1]])"
      ]
     },
     "execution_count": 25,
     "metadata": {},
     "output_type": "execute_result"
    }
   ],
   "source": [
    "import numpy as np\n",
    "x = np.matrix([[5,6,0],[3,7,5],[5,6,1]])\n",
    "x"
   ]
  },
  {
   "cell_type": "code",
   "execution_count": 26,
   "id": "50dedac7",
   "metadata": {},
   "outputs": [
    {
     "data": {
      "text/plain": [
       "array([[1., 0., 0.],\n",
       "       [0., 1., 0.],\n",
       "       [0., 0., 1.]])"
      ]
     },
     "execution_count": 26,
     "metadata": {},
     "output_type": "execute_result"
    }
   ],
   "source": [
    "e = np.eye(3)\n",
    "e"
   ]
  },
  {
   "cell_type": "code",
   "execution_count": 27,
   "id": "fc632a90",
   "metadata": {},
   "outputs": [
    {
     "data": {
      "text/plain": [
       "(array([13.173862+0.j        , -0.086931+1.13264162j,\n",
       "        -0.086931-1.13264162j]),\n",
       " matrix([[ 0.49832574+0.j        ,  0.66254382+0.j        ,\n",
       "           0.66254382-0.j        ],\n",
       "         [ 0.6788743 +0.j        , -0.56171911+0.12507078j,\n",
       "          -0.56171911-0.12507078j],\n",
       "         [ 0.53925981+0.j        ,  0.37031456-0.30451889j,\n",
       "           0.37031456+0.30451889j]]))"
      ]
     },
     "execution_count": 27,
     "metadata": {},
     "output_type": "execute_result"
    }
   ],
   "source": [
    "# creating a new matrix which  is linear transformation of x\n",
    "m = x + 45*e\n",
    "np.linalg.eig(x)"
   ]
  },
  {
   "cell_type": "code",
   "execution_count": 28,
   "id": "90c631cb",
   "metadata": {},
   "outputs": [
    {
     "data": {
      "text/plain": [
       "(array([58.173862+0.j        , 44.913069+1.13264162j,\n",
       "        44.913069-1.13264162j]),\n",
       " matrix([[ 0.49832574+0.j        ,  0.66254382+0.j        ,\n",
       "           0.66254382-0.j        ],\n",
       "         [ 0.6788743 +0.j        , -0.56171911+0.12507078j,\n",
       "          -0.56171911-0.12507078j],\n",
       "         [ 0.53925981+0.j        ,  0.37031456-0.30451889j,\n",
       "           0.37031456+0.30451889j]]))"
      ]
     },
     "execution_count": 28,
     "metadata": {},
     "output_type": "execute_result"
    }
   ],
   "source": [
    "np.linalg.eig(m)"
   ]
  },
  {
   "cell_type": "markdown",
   "id": "4fc1cacd",
   "metadata": {},
   "source": [
    "# Thank You !!!"
   ]
  },
  {
   "cell_type": "code",
   "execution_count": null,
   "id": "a807cfe8",
   "metadata": {},
   "outputs": [],
   "source": [
    "\n"
   ]
  }
 ],
 "metadata": {
  "kernelspec": {
   "display_name": "Python 3 (ipykernel)",
   "language": "python",
   "name": "python3"
  },
  "language_info": {
   "codemirror_mode": {
    "name": "ipython",
    "version": 3
   },
   "file_extension": ".py",
   "mimetype": "text/x-python",
   "name": "python",
   "nbconvert_exporter": "python",
   "pygments_lexer": "ipython3",
   "version": "3.9.7"
  }
 },
 "nbformat": 4,
 "nbformat_minor": 5
}
