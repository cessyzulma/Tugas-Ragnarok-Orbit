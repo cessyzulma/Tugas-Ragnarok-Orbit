{
 "cells": [
  {
   "cell_type": "markdown",
   "id": "62a12bbe",
   "metadata": {},
   "source": [
    "### Buatlah 3 OOP beserta turunannya dari objek sekitar, buat ulang seperti yang diatas (encapsulation, abstaction, inheritance, polymorphism)"
   ]
  },
  {
   "cell_type": "markdown",
   "id": "d9d531c1",
   "metadata": {},
   "source": [
    "### Encapsulation"
   ]
  },
  {
   "cell_type": "code",
   "execution_count": 2,
   "id": "537b743c",
   "metadata": {},
   "outputs": [
    {
     "name": "stdout",
     "output_type": "stream",
     "text": [
      "Merk: Iphone, Tahun Produksi: 2021, warna: hitam, Jenis Hp: handphone\n",
      "turning on Hp\n"
     ]
    }
   ],
   "source": [
    "merk = \"Iphone\"\n",
    "tahun = 2021\n",
    "warna = \"hitam\"\n",
    "jenis = \"handphone\"\n",
    "\n",
    "def nyala():\n",
    "    print(\"turning on Hp\")\n",
    "\n",
    "def info_hp(nama, tahun, warna, jenis):\n",
    "    print(f\"Merk: {merk}, Tahun Produksi: {tahun}, warna: {warna}, Jenis Hp: {jenis}\")\n",
    "\n",
    "info_hp(merk, tahun, warna, jenis)\n",
    "nyala()"
   ]
  },
  {
   "cell_type": "code",
   "execution_count": 4,
   "id": "d2488116",
   "metadata": {},
   "outputs": [
    {
     "name": "stdout",
     "output_type": "stream",
     "text": [
      "Merk: Samsung, Tahun Produksi: 2021, warna: hitam, jenis: Smart Phone\n",
      "Turning on Hp Samsung\n"
     ]
    }
   ],
   "source": [
    "class Hp(object):\n",
    "    \n",
    "    merk_Hp = \"\"\n",
    "    def __init__(self, input_merk, input_tahun, input_warna, input_jenis):\n",
    "        self.merk = input_merk\n",
    "        self.tahun = input_tahun\n",
    "        self.warna = input_warna\n",
    "        self.jenis = input_jenis\n",
    "        Hp.merk_Hp = input_merk\n",
    "\n",
    "    def nyala(self):\n",
    "        print(\"Turning on Hp\", self.merk)\n",
    "\n",
    "    def info(self):\n",
    "        print(f\"Merk: {self.merk}, Tahun Produksi: {self.tahun}, warna: {self.warna}, jenis: {self.jenis}\")\n",
    "        \n",
    "        \n",
    "Hp1 = Hp(\"Samsung\", 2021, \"hitam\", \"Smart Phone\")\n",
    "\n",
    "Hp1.info()\n",
    "Hp1.nyala()"
   ]
  },
  {
   "cell_type": "markdown",
   "id": "0b24c2d0",
   "metadata": {},
   "source": [
    "### Inheritence\n"
   ]
  },
  {
   "cell_type": "code",
   "execution_count": 6,
   "id": "165e9883",
   "metadata": {},
   "outputs": [
    {
     "name": "stdout",
     "output_type": "stream",
     "text": [
      "Merk: Samsung, Tahun Produksi: 2021, Jenis: Smartphone, Berfungsi: True\n"
     ]
    }
   ],
   "source": [
    "class Elektronik(object):\n",
    "    def __init__(self, merk, tahun, jenis, normal):\n",
    "        self.merk = merk\n",
    "        self.tahun = tahun\n",
    "        self.jenis = jenis\n",
    "        self.normal = normal\n",
    "\n",
    "    def loading(self, durasi):\n",
    "        for x in range(durasi):\n",
    "            print(\"Loading Device\")\n",
    "\n",
    "    def info(self):\n",
    "        print(f\"Merk: {self.merk}, Tahun Produksi: {self.tahun}, Jenis: {self.jenis}, Berfungsi: {self.normal}\")\n",
    "\n",
    "\n",
    "device1 = Elektronik(\"Samsung\", 2021, \"Smartphone\", True)\n",
    "\n",
    "device1.info()"
   ]
  },
  {
   "cell_type": "code",
   "execution_count": 7,
   "id": "713b519a",
   "metadata": {},
   "outputs": [
    {
     "name": "stdout",
     "output_type": "stream",
     "text": [
      "Merk: Samsung, Tahun Produksi: 2021, Jenis: SmartPhone, Berfungsi: True\n",
      "Warna: Navy, Harga: Rp. 3,4999,999,-\n",
      "Loading Device\n",
      "Searching...\n"
     ]
    }
   ],
   "source": [
    "class Hp(Elektronik):\n",
    "    def __init__(self,  merk, tahun, jenis, normal, warna, harga):\n",
    "        super().__init__(merk, tahun, jenis, normal)\n",
    "        self.warna = warna\n",
    "        self.harga = harga\n",
    "\n",
    "    def search(self):\n",
    "        super().loading(1)\n",
    "        print(\"Searching...\")\n",
    "\n",
    "    def info_Hp(self):\n",
    "        super().info()\n",
    "        print(f\"Warna: {self.warna}, Harga: {self.harga}\")\n",
    "\n",
    "handphone1 = Hp(\"Samsung\", 2021, \"SmartPhone\", True, \"Navy\", \"Rp. 3,4999,999,-\")\n",
    "\n",
    "\n",
    "\n",
    "handphone1.info_Hp()\n",
    "handphone1.search()"
   ]
  },
  {
   "cell_type": "markdown",
   "id": "d4aabf32",
   "metadata": {},
   "source": [
    "### Abstraction\n"
   ]
  },
  {
   "cell_type": "code",
   "execution_count": 13,
   "id": "8c0d6cd5",
   "metadata": {},
   "outputs": [],
   "source": [
    "from abc import abstractmethod, ABC"
   ]
  },
  {
   "cell_type": "code",
   "execution_count": 14,
   "id": "47e9616b",
   "metadata": {},
   "outputs": [
    {
     "name": "stdout",
     "output_type": "stream",
     "text": [
      "Android\n",
      "Merk: Samsung\n",
      "Mid Range\n",
      "iOS\n",
      "Merk: Iphone X\n"
     ]
    }
   ],
   "source": [
    "class Elektro(ABC):\n",
    "    #Method biasa\n",
    "    def hp(self,x):\n",
    "        print(\"Merk:\", x)\n",
    "    \n",
    "    #Abstract Method\n",
    "    @abstractmethod\n",
    "    def os(self):\n",
    "        pass\n",
    "\n",
    "        \n",
    "class android(Elektro):\n",
    "    def os(self):\n",
    "        print(\"Android\")\n",
    "    def kelas(self):\n",
    "        print('Mid Range')\n",
    "        \n",
    "        \n",
    "class iOS(Elektro):\n",
    "    def os(self):\n",
    "        print(\"iOS\")\n",
    "\n",
    "\n",
    "#object of test_class created\n",
    "test_obj = android()\n",
    "test_obj.os()\n",
    "test_obj.hp(\"Samsung\")\n",
    "test_obj.kelas()\n",
    "\n",
    "test2_obj = iOS()\n",
    "test2_obj.os()\n",
    "test2_obj.hp(\"Iphone X\")"
   ]
  },
  {
   "cell_type": "code",
   "execution_count": 16,
   "id": "e3266b44",
   "metadata": {},
   "outputs": [],
   "source": [
    "class melody(ABC):\n",
    "    \n",
    "    @abstractmethod\n",
    "    def suara(self):\n",
    "        pass\n",
    "    \n",
    "class drum(melody):\n",
    "    def suara(self):\n",
    "        print(\"dum dum\")\n",
    "        \n",
    "class triangle(melody):\n",
    "    def suara(self):\n",
    "        print(\"ting ting ting\")"
   ]
  },
  {
   "cell_type": "code",
   "execution_count": 17,
   "id": "6027130c",
   "metadata": {},
   "outputs": [
    {
     "name": "stdout",
     "output_type": "stream",
     "text": [
      "dum dum\n",
      "ting ting ting\n"
     ]
    }
   ],
   "source": [
    "drum1 = drum()\n",
    "triangle1 = triangle()\n",
    "drum1.suara()\n",
    "triangle1.suara()"
   ]
  },
  {
   "cell_type": "markdown",
   "id": "cfe7113a",
   "metadata": {},
   "source": [
    "### Polymorphism\n"
   ]
  },
  {
   "cell_type": "code",
   "execution_count": 19,
   "id": "fc566a8c",
   "metadata": {},
   "outputs": [],
   "source": [
    "class film(object):\n",
    "    def __init__(self, judul, genre, tahun):\n",
    "        self.judul = judul\n",
    "        self.genre = genre\n",
    "        self.tahun = tahun\n",
    "    \n",
    "    def watching(self, durasi):\n",
    "        for i in range(durasi):\n",
    "            print(\"sedang menonton..\")\n",
    "            \n",
    "    def info(self):\n",
    "        print(f\"Judul film: {self.judul}\\nGenre: {self.genre}\\nTahun rilis: {self.tahun}\")\n",
    "\n",
    "        \n",
    "class favorite(film):\n",
    "    def __init__(self, judul, genre, tahun, warna, bahasa):\n",
    "        super().__init__(judul, genre, tahun)\n",
    "        self.judul = judul\n",
    "        \n",
    "    def doing(self, durasi):\n",
    "        for i in range(durasi):\n",
    "            print(\"watching the movie..\")\n",
    "            \n",
    "        "
   ]
  },
  {
   "cell_type": "code",
   "execution_count": 21,
   "id": "47434819",
   "metadata": {},
   "outputs": [],
   "source": [
    "import film as fm"
   ]
  },
  {
   "cell_type": "code",
   "execution_count": 35,
   "id": "e9af26fd",
   "metadata": {},
   "outputs": [
    {
     "name": "stdout",
     "output_type": "stream",
     "text": [
      "Judul film: The Exorcism of Emily Rose\n",
      "Genre: Horor\n",
      "Tahun rilis: 2005\n",
      "watching the movie..\n",
      "sedang menonton..\n",
      "sedang menonton..\n",
      "sedang menonton..\n"
     ]
    }
   ],
   "source": [
    "film1 = favorite(\"The Exorcism of Emily Rose\", \"Horor\", 2005, 50000, \"Sangat Recomended\")\n",
    "\n",
    "film1.info()\n",
    "film1.doing(True)\n",
    "film1.watching(3)"
   ]
  },
  {
   "cell_type": "code",
   "execution_count": null,
   "id": "f2f726d9",
   "metadata": {},
   "outputs": [],
   "source": []
  }
 ],
 "metadata": {
  "kernelspec": {
   "display_name": "Python 3 (ipykernel)",
   "language": "python",
   "name": "python3"
  },
  "language_info": {
   "codemirror_mode": {
    "name": "ipython",
    "version": 3
   },
   "file_extension": ".py",
   "mimetype": "text/x-python",
   "name": "python",
   "nbconvert_exporter": "python",
   "pygments_lexer": "ipython3",
   "version": "3.9.7"
  }
 },
 "nbformat": 4,
 "nbformat_minor": 5
}
