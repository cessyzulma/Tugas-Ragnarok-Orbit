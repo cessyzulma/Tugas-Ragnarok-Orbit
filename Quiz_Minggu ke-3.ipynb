{
 "cells": [
  {
   "cell_type": "markdown",
   "id": "ed8c244b",
   "metadata": {},
   "source": [
    "## Sesi Pagi\n"
   ]
  },
  {
   "cell_type": "markdown",
   "id": "8b4385dd",
   "metadata": {},
   "source": [
    "### Python OOP \n"
   ]
  },
  {
   "cell_type": "markdown",
   "id": "b59e54e5",
   "metadata": {},
   "source": [
    "#### No. 1 Apa itu OOP dan cobalah buat 2 implementasi konsep OOP menggunakan python\n",
    "\n",
    "Object Oriented Programming (OOP) adalah suatu pemrograman yang berorientasi pada konsep class (kelas) dan object (objek). Konsep ini sering kali digunakan dalam menyusun aplikasi menjadi kode yang sederhana dan dapat digunakan kembali (reuseable).\n"
   ]
  },
  {
   "cell_type": "markdown",
   "id": "a9ad8609",
   "metadata": {},
   "source": [
    "#### 2 implementasi konsep OOP menggunakan python :"
   ]
  },
  {
   "cell_type": "code",
   "execution_count": 3,
   "id": "9524ffac",
   "metadata": {},
   "outputs": [
    {
     "name": "stdout",
     "output_type": "stream",
     "text": [
      "nama: Nurul cessy, usia: 19, prodi: Teknik Informatika, fakultas: Universitas Pamulang\n",
      "biodata Mahasiswa\n"
     ]
    }
   ],
   "source": [
    "nama = \"Nurul cessy\"\n",
    "usia = 19\n",
    "prodi = \"Teknik Informatika\"\n",
    "fakultas = \"Universitas Pamulang\"\n",
    "\n",
    "def biodata():\n",
    "    print(\"biodata Mahasiswa\")\n",
    "\n",
    "def biodata_mahasiswa(nama, usia, prodi, fakultas):\n",
    "    print(f\"nama: {nama}, usia: {usia}, prodi: {prodi}, fakultas: {fakultas}\")\n",
    "\n",
    "biodata_mahasiswa(nama, usia, prodi, fakultas)\n",
    "biodata()"
   ]
  },
  {
   "cell_type": "code",
   "execution_count": 1,
   "id": "2ad24b2f",
   "metadata": {},
   "outputs": [
    {
     "name": "stdout",
     "output_type": "stream",
     "text": [
      "luas segitiga1: 25.0\n",
      "luas segitiga2: 50.0\n"
     ]
    }
   ],
   "source": [
    "class Segitiga:\n",
    "  def __init__(self, alas, tinggi):\n",
    "    self.alas = alas\n",
    "    self.tinggi = tinggi\n",
    "\n",
    "  def get_luas(self):\n",
    "    return 0.5 * self.alas * self.tinggi\n",
    "\n",
    "segitiga1 = Segitiga(5, 10)\n",
    "segitiga2 = Segitiga(10, 10)\n",
    "\n",
    "print('luas segitiga1:', segitiga1.get_luas())\n",
    "print('luas segitiga2:', segitiga2.get_luas())    "
   ]
  },
  {
   "cell_type": "markdown",
   "id": "9cdb56b3",
   "metadata": {},
   "source": [
    "#### No. 2 Sebutkan dan Jelaskan 2 jenis module yang ada pada python\n"
   ]
  },
  {
   "cell_type": "markdown",
   "id": "29498425",
   "metadata": {},
   "source": [
    "#### No. 3 Hitunglah berapa hasil dari akar 175+4akar7+(1/3)+3log81"
   ]
  },
  {
   "cell_type": "code",
   "execution_count": 4,
   "id": "2043478e",
   "metadata": {},
   "outputs": [],
   "source": [
    "import math\n",
    "p = math.isqrt(175)\n",
    "q = 4 * math.isqrt(7)\n",
    "r = 1/3\n",
    "s = math.log(81,3)"
   ]
  },
  {
   "cell_type": "code",
   "execution_count": 5,
   "id": "5fd6e7f9",
   "metadata": {},
   "outputs": [
    {
     "name": "stdout",
     "output_type": "stream",
     "text": [
      "25.333333333333332\n"
     ]
    }
   ],
   "source": [
    "print (p+q+r+s)"
   ]
  },
  {
   "cell_type": "markdown",
   "id": "841c5543",
   "metadata": {},
   "source": [
    "#### No. 4 Apa itu custom exception dan beri 1 contoh implementasinya\n",
    "\n",
    "Exception Handling merupakan mekanisme yang paling diperlukan dalam menangani error yang terjadi pada saat runtime (program berjalan) atau yang lebih dikenal dengan sebutan runtime error. "
   ]
  },
  {
   "cell_type": "code",
   "execution_count": 6,
   "id": "c2c374f9",
   "metadata": {
    "scrolled": true
   },
   "outputs": [
    {
     "name": "stdout",
     "output_type": "stream",
     "text": [
      "masukan angka 4 :16\n",
      "masukan angka 6 :4\n",
      "Tidak bisa, pembagian angka dengan 0\n"
     ]
    }
   ],
   "source": [
    "a = int(input(\"masukan angka 4 :\"))\n",
    "b = int(input(\"masukan angka 6 :\"))\n",
    "\n",
    "try:\n",
    "    hasil = x/y\n",
    "    print('hasil pembagian angka 4 dan 6 adalah :', hasil)\n",
    "except:\n",
    "    print(\"Tidak bisa, pembagian angka dengan 0\")"
   ]
  },
  {
   "cell_type": "markdown",
   "id": "3652053e",
   "metadata": {},
   "source": [
    "### Artificial Intellegence"
   ]
  },
  {
   "cell_type": "markdown",
   "id": "6bbe0b7c",
   "metadata": {},
   "source": [
    "#### No. 1 Perbedaan dari structured dan unstructred data dan sebutkan 3 sumber data\n",
    "\n",
    "=> Data terstruktur biasanya dijalankan untuk mengakses database yang disebut dengan Structured Query Languange atau yang lebih dikenal dengan SQL. Sedangkan data tidak terstruktur (unstructured) adalah data yang tidak mudah diklasifikasi dan dimasukan kedalam sebuah kotak dengan rapi. \n",
    "3 sumber data diantaranya :\n",
    "1. email\n",
    "\n",
    "2. file text\n",
    "\n",
    "3. Gambar satelit"
   ]
  },
  {
   "cell_type": "markdown",
   "id": "34720f99",
   "metadata": {},
   "source": [
    "#### No. 2 Jelaskan perbedaan AI, Machine Learning, dan Deep Learning\n",
    "\n",
    "=> Deep Learning merupakan salah satu metode implementasi dari machine learning yang bertujuan untuk meniru cara kerja otak manusia dengan menggunakan artificial intellegence atau kecerdasan buatan"
   ]
  },
  {
   "cell_type": "markdown",
   "id": "16992fab",
   "metadata": {},
   "source": [
    "#### No. 3 Apa perbedaan Machine Learning dengan Traditional Software\n",
    "\n",
    "=> Perbedaan Machine Learning dengan Traditional Programming? Meskipun keduanya sama sama menggunakan mesin komputer, namun keduanya berbeda. Jika sebelum ada Machine Learning, program yang dijalankan diharapkan dapat menghasilkan sebuah output berdasarkan data yang ada. Caranya, programmer akan memasukkan data dan programnya ke dalam komputer pada proses input, lalu komputer akan memprosesnya hingga didapatkan hasil berbentuk output. Sedangkan pada Machine Learning, data dan output merupakan hal yang telah ada dan dijadikan sebagai inputan ke dalam komputer, hasilnya adalah program yang dapat berjalan sendiri secara otomatis tanpa bantuan manusia untuk menghasilkan output baru."
   ]
  },
  {
   "cell_type": "markdown",
   "id": "33d70398",
   "metadata": {},
   "source": [
    "#### No. 4 Tiga contoh aplikasi machine learning di sektor smart city dan agriculture\n",
    "\n",
    "    1. Prediksi Hasil Panen\n",
    "    \n",
    "    2. Manajemen resiko\n",
    "    \n",
    "    3. Keamanan Pangan dan Pencegahan Hama\n"
   ]
  },
  {
   "cell_type": "markdown",
   "id": "e8485a2b",
   "metadata": {},
   "source": [
    "### Maths for AI"
   ]
  },
  {
   "cell_type": "markdown",
   "id": "be06c97e",
   "metadata": {},
   "source": [
    "#### No. 1 Mengapa ilmu matematika penting ketika mempelajari AI\n",
    "\n",
    "    karena pada dasarnya bahasa mesin juga menggunakan matematika, jadi pada AI juga seharusnya menggunakan matematika untuk membantu lebih mudah lagi maybe hehe\n",
    "    \n"
   ]
  },
  {
   "cell_type": "markdown",
   "id": "b7b3707b",
   "metadata": {},
   "source": [
    "#### No. 2 jelaskan perbedaan vektor dan skalar\n",
    "\n",
    "    Vektor adalah besaran yang merepresentasikan dengan nilai dan arah, sedangkan skalar adalah besaran yang merepresentasikan nilai saja.\n",
    "    \n",
    "\n"
   ]
  },
  {
   "cell_type": "markdown",
   "id": "b705e330",
   "metadata": {},
   "source": [
    "#### No.3 apa perbedaan dari jarak euclidean dan manhattan\n",
    "\n",
    "    perbedaan dari kedua jarak ini yaitu Perbandingan akurasi  metode pengukuran  jarak (euclidean, manhattan,  dan  minkowski)  untuk  pelabelan  klaster  status disparitas kebutuhan Guu telah dilakukan dan memberikan nilai atau tingkat akurasi  yang tinggi,  yaitu 84.47%  (untuk metode euclidean distance),  83.85%  (untuk  metode  manhattan distance),  dan  83.85%  (untuk  metode  minkowski).  Dengan demikian,  dapat  disimpulkan  bahwa  metode  euclidean meupakan metode terbaik untuk diterapkan dalam algoritma K-Means  Clustering.  Selanjutnya,  klaster  label  klaster  dapat digunakan  mengidentifikasi  status  disparitas  Guru  untuk masing-masing  sekolah di  Kota Tegal.\n",
    "    \n",
    "    \n",
    "\n"
   ]
  },
  {
   "cell_type": "markdown",
   "id": "982b0264",
   "metadata": {},
   "source": [
    "#### No. 4 apa kegunaan matriks dalam ilmu matematika ketika menerapkan A\n",
    "\n",
    "    kegunaannya matriks dalam AI ntuk membantu proses perhitungan pada algoritma didalamnya \n",
    "\n",
    "    \n"
   ]
  },
  {
   "cell_type": "markdown",
   "id": "6c8ad7aa",
   "metadata": {},
   "source": [
    "### Machine Learning"
   ]
  },
  {
   "cell_type": "markdown",
   "id": "7ce43103",
   "metadata": {},
   "source": [
    "#### No.1 jelaskan perbedaan supervised dan unsupervised learning dan sebutkan 2 contohnya!\n",
    "\n",
    "    Supervised learning itu punya target variabel. fungsinya untuk prediksi atau clasifikasi(Decision tree, Random Forest) Sedangakan Unsupervised learning itu tidak punya target variabel. fungsinya biasanya untuk clustering atau association (DBSCAN, KNN)"
   ]
  },
  {
   "cell_type": "markdown",
   "id": "bffb53d1",
   "metadata": {},
   "source": [
    "#### No. 2 Sebutkan setiap tahap yang di AI Life cycle dan jelaskan \n",
    "\n",
    "    ML Life Cycle diantaranya :\n",
    "    \n",
    "    1. tentukan tujuan \n",
    "    2. kumpulkan data\n",
    "    3. siapkan data\n",
    "    4. pilih algoritma\n",
    "    5. latih model\n",
    "    6. tes model\n",
    "    7. integrasikan model\n",
    "    \n",
    "    pertama-tama kita harus tentukan tujuan terlebih dahulu untuk mengintegrasikan suatu model, setelah itu kita kumpulkan data yang diperlukan, kemudian setelah data-data terkumpul kita harus menyiapkan data yang kita perlu, kemudian kita pilih algoritma yang sesuai untuk kebutuhan model setelah itu kita latih model nya selanjutanya kita tes model yang sudah jadi dan langkah terakhir kita integrasikan model tersebut.\n",
    "    "
   ]
  },
  {
   "cell_type": "markdown",
   "id": "80bc9e4c",
   "metadata": {},
   "source": [
    "#### No. 3 apa perbedaan regressing dengan clusterring\n",
    "\n",
    "    Regresi masuk nya ke metode supervised learning, yang berfungsi untuk mengestimasi suatu nilai. Sedangkan clustering masuk ke unsupervised learning yang berfngsi untuk menentukan variabel masuk ke kluster apa dan ada berapa cluster"
   ]
  },
  {
   "cell_type": "markdown",
   "id": "f52843a2",
   "metadata": {},
   "source": [
    "#### No. 4 apa itu algoritma artificial neural network dan untuk apa fungsinya \n",
    "\n",
    "    ANN merupakan jaringan dari sekelompok unit pemroses kecil yang dimodelkan berdasarkan perilaku jaringan syaraf manusia.fungsinya untuk mnegklasifikasi,memetakan pola, dan lain-lain."
   ]
  }
 ],
 "metadata": {
  "kernelspec": {
   "display_name": "Python 3 (ipykernel)",
   "language": "python",
   "name": "python3"
  },
  "language_info": {
   "codemirror_mode": {
    "name": "ipython",
    "version": 3
   },
   "file_extension": ".py",
   "mimetype": "text/x-python",
   "name": "python",
   "nbconvert_exporter": "python",
   "pygments_lexer": "ipython3",
   "version": "3.9.7"
  }
 },
 "nbformat": 4,
 "nbformat_minor": 5
}
