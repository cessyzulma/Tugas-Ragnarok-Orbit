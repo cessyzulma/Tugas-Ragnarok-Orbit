{
 "cells": [
  {
   "cell_type": "markdown",
   "id": "d4e8f624",
   "metadata": {},
   "source": [
    "## Data Types & Data Structures\n"
   ]
  },
  {
   "cell_type": "markdown",
   "id": "8c4783b4",
   "metadata": {},
   "source": [
    "• Everything in Python is an \"object\", including integers/floats\n",
    "\n",
    "• Most common and important types (classes)\n",
    "    \n",
    "    – \"Single value\": None, int, float, bool, str, complex\n",
    "    \n",
    "    – \"Multiple values\": list, tuple, set, dict\n",
    "    \n",
    "• Single/Multiple isn't a real distinction, this is for explanation\n",
    "\n",
    "• There are many others, but these are most frequently used"
   ]
  },
  {
   "cell_type": "markdown",
   "id": "ab1018da",
   "metadata": {},
   "source": [
    "### Identifying Data Types"
   ]
  },
  {
   "cell_type": "code",
   "execution_count": 1,
   "id": "71f5f58d",
   "metadata": {},
   "outputs": [],
   "source": [
    "a = 42\n",
    "b = 32.30"
   ]
  },
  {
   "cell_type": "code",
   "execution_count": 2,
   "id": "6840563f",
   "metadata": {},
   "outputs": [
    {
     "name": "stdout",
     "output_type": "stream",
     "text": [
      "<class 'int'>\n",
      "<class 'float'>\n"
     ]
    }
   ],
   "source": [
    "print(type(a))#gets type of a\n",
    "print(type(b))#gets type of b"
   ]
  },
  {
   "cell_type": "markdown",
   "id": "dfb03a32",
   "metadata": {},
   "source": [
    "### Single Value Types"
   ]
  },
  {
   "cell_type": "markdown",
   "id": "1e90b5d0",
   "metadata": {},
   "source": [
    "• int: Integers\n",
    "\n",
    "• float: Floating point numbers\n",
    "\n",
    "• bool: Boolean values (True, False)\n",
    "\n",
    "• complex: Complex numbers\n",
    "\n",
    "• str: String"
   ]
  },
  {
   "cell_type": "markdown",
   "id": "e76ff3e8",
   "metadata": {},
   "source": [
    "### Lists"
   ]
  },
  {
   "cell_type": "markdown",
   "id": "bbb9608b",
   "metadata": {},
   "source": [
    "Lists can be thought of the most general version of a sequence in Python.\n",
    "\n",
    "Unlike strings, they are mutable, meaning the elements inside a list can be changed!\n",
    "\n",
    "In this section we will learn about:\n",
    "    \n",
    "1.) Creating lists\n",
    "\n",
    "2.) Indexing and Slicing Lists\n",
    "\n",
    "3.) Basic List Methods\n",
    "\n",
    "4.) Nesting Lists\n",
    "\n",
    "5.) Introduction to List Comprehensions\n",
    "\n",
    "Lists are constructed with brackets [] and commas separating every element in the list.\n",
    "\n",
    "Let's go ahead and see how we can construct lists!"
   ]
  },
  {
   "cell_type": "code",
   "execution_count": 3,
   "id": "06631efe",
   "metadata": {},
   "outputs": [],
   "source": [
    "# Assign a list to an variable named my_list"
   ]
  },
  {
   "cell_type": "code",
   "execution_count": 4,
   "id": "79d2309f",
   "metadata": {},
   "outputs": [],
   "source": [
    "my_list = [1,2,3]"
   ]
  },
  {
   "cell_type": "markdown",
   "id": "5b0f7ff9",
   "metadata": {},
   "source": [
    "We just created a list of integers, but lists can actually hold different object types. For\n",
    "\n",
    "example:"
   ]
  },
  {
   "cell_type": "code",
   "execution_count": 5,
   "id": "bd106fc3",
   "metadata": {},
   "outputs": [],
   "source": [
    "my_list = ['A string',23,100.232,'o']"
   ]
  },
  {
   "cell_type": "markdown",
   "id": "f6b639f5",
   "metadata": {},
   "source": [
    "Just like strings, the len() function will tell you how many items are in the sequence of the\n",
    "list."
   ]
  },
  {
   "cell_type": "code",
   "execution_count": 6,
   "id": "e076922b",
   "metadata": {},
   "outputs": [
    {
     "data": {
      "text/plain": [
       "4"
      ]
     },
     "execution_count": 6,
     "metadata": {},
     "output_type": "execute_result"
    }
   ],
   "source": [
    "len(my_list)"
   ]
  },
  {
   "cell_type": "markdown",
   "id": "f69af6e0",
   "metadata": {},
   "source": [
    "### Adding New Elements to a list"
   ]
  },
  {
   "cell_type": "markdown",
   "id": "caf1bfeb",
   "metadata": {},
   "source": [
    "We use two special commands to add new elements to a list. Let's make a new list to\n",
    "\n",
    "remind ourselves of how this works:"
   ]
  },
  {
   "cell_type": "code",
   "execution_count": 7,
   "id": "1e7a0e20",
   "metadata": {},
   "outputs": [],
   "source": [
    "my_list = ['one','two','three',4,5]"
   ]
  },
  {
   "cell_type": "code",
   "execution_count": 9,
   "id": "0d7378d1",
   "metadata": {},
   "outputs": [
    {
     "name": "stdout",
     "output_type": "stream",
     "text": [
      "[1, 2.3, ['a', 'b'], 'New York', 3.1]\n"
     ]
    }
   ],
   "source": [
    "# append a value to the end of the list\n",
    "l = [1, 2.3, ['a', 'b'], 'New York']\n",
    "l.append(3.1)\n",
    "print(l)"
   ]
  },
  {
   "cell_type": "code",
   "execution_count": 10,
   "id": "db811cb4",
   "metadata": {},
   "outputs": [
    {
     "name": "stdout",
     "output_type": "stream",
     "text": [
      "[1, 2, 3, 4, 5, 6]\n"
     ]
    }
   ],
   "source": [
    "# extend a list with another list.\n",
    "l = [1, 2, 3]\n",
    "l.extend([4, 5, 6])\n",
    "print(l)"
   ]
  },
  {
   "cell_type": "markdown",
   "id": "d5c82d53",
   "metadata": {},
   "source": [
    "### Slicing"
   ]
  },
  {
   "cell_type": "markdown",
   "id": "e6615f76",
   "metadata": {},
   "source": [
    "Slicing is used to access individual elements or a rage of elements in a list.\n",
    "\n",
    "Python supports \"slicing\" indexable sequences. The syntax for slicing lists is:\n",
    "    \n",
    "    • list_object[start:end:step] or\n",
    "    \n",
    "    • list_object[start:end]\n",
    "    \n",
    "start and end are indices (start inclusive, end exclusive). All slicing values are optional."
   ]
  },
  {
   "cell_type": "code",
   "execution_count": 12,
   "id": "89ca1a2d",
   "metadata": {},
   "outputs": [
    {
     "name": "stdout",
     "output_type": "stream",
     "text": [
      "[0, 1, 2, 3, 4, 5, 6, 7, 8, 9]\n"
     ]
    }
   ],
   "source": [
    "lst = list(range(10)) # create a list containing 10 numbers starting from 0\n",
    "print(lst)"
   ]
  },
  {
   "cell_type": "code",
   "execution_count": 13,
   "id": "177fed3e",
   "metadata": {},
   "outputs": [
    {
     "name": "stdout",
     "output_type": "stream",
     "text": [
      "elements from index 4 to 7: [4, 5, 6]\n",
      "alternate elements, starting at index 0: [0, 2, 4, 6, 8]\n"
     ]
    }
   ],
   "source": [
    "print(\"elements from index 4 to 7:\", lst[4:7])\n",
    "print(\"alternate elements, starting at index 0:\", lst[0::2])\n",
    "# prints elements from index 0 till last index with a step of 2"
   ]
  },
  {
   "cell_type": "code",
   "execution_count": 14,
   "id": "0701f591",
   "metadata": {},
   "outputs": [
    {
     "name": "stdout",
     "output_type": "stream",
     "text": [
      "every third element, starting at index 1: [1, 4, 7]\n"
     ]
    }
   ],
   "source": [
    "print(\"every third element, starting at index 1:\", lst[1::3])\n",
    "# prints elements from index 1 till last index with a step of 3"
   ]
  },
  {
   "cell_type": "markdown",
   "id": "3dccef3b",
   "metadata": {},
   "source": [
    "• __.append__: add element to end of list\n",
    "\n",
    "• __.insert__: insert element at given index\n",
    "\n",
    "• __.extend__: extend one list with another list"
   ]
  },
  {
   "cell_type": "markdown",
   "id": "05f9e367",
   "metadata": {},
   "source": [
    "### Dictionaries"
   ]
  },
  {
   "cell_type": "markdown",
   "id": "23cb38c1",
   "metadata": {},
   "source": [
    "Now we're going to switch gears and learn about mappings called dictionaries in Python. If you're familiar with other languages you can think of these Dictionaries as hash tables.\n",
    "This section will serve as a brief introduction to dictionaries and consist of:\n",
    "    \n",
    "1.) Constructing a Dictionary\n",
    "\n",
    "2.) Accessing objects from a dictionary\n",
    "\n",
    "3.) Nesting Dictionaries\n",
    "\n",
    "4.) Basic Dictionary Methods\n",
    "\n",
    "A Python dictionary consists of a key and then an associated value. That value can be almost any Python object."
   ]
  },
  {
   "cell_type": "markdown",
   "id": "7ab103a5",
   "metadata": {},
   "source": [
    "### Constructing a Dictionary"
   ]
  },
  {
   "cell_type": "markdown",
   "id": "3b0d234a",
   "metadata": {},
   "source": [
    "Let's see how we can construct dictionaries to get a better understanding of how they work!"
   ]
  },
  {
   "cell_type": "code",
   "execution_count": 16,
   "id": "e689ed48",
   "metadata": {},
   "outputs": [],
   "source": [
    "# Make a dictionary with {} and : to signify a key and a value\n",
    "my_dict = {'key1':'value1','key2':'value2'}"
   ]
  },
  {
   "cell_type": "code",
   "execution_count": 17,
   "id": "43a5d030",
   "metadata": {},
   "outputs": [
    {
     "data": {
      "text/plain": [
       "'value2'"
      ]
     },
     "execution_count": 17,
     "metadata": {},
     "output_type": "execute_result"
    }
   ],
   "source": [
    "# Call values by their key\n",
    "my_dict['key2']"
   ]
  },
  {
   "cell_type": "markdown",
   "id": "64a3ca83",
   "metadata": {},
   "source": [
    "We can effect the values of a key as well. For instance:"
   ]
  },
  {
   "cell_type": "code",
   "execution_count": 18,
   "id": "a4533f5a",
   "metadata": {},
   "outputs": [
    {
     "data": {
      "text/plain": [
       "{'key1': 123, 'key2': 'value2'}"
      ]
     },
     "execution_count": 18,
     "metadata": {},
     "output_type": "execute_result"
    }
   ],
   "source": [
    "my_dict['key1']=123\n",
    "my_dict"
   ]
  },
  {
   "cell_type": "code",
   "execution_count": 19,
   "id": "5a6283e9",
   "metadata": {},
   "outputs": [],
   "source": [
    "# Subtract 123 from the value\n",
    "my_dict['key1'] = my_dict['key1'] - 123"
   ]
  },
  {
   "cell_type": "code",
   "execution_count": 20,
   "id": "b81f8f18",
   "metadata": {},
   "outputs": [
    {
     "data": {
      "text/plain": [
       "0"
      ]
     },
     "execution_count": 20,
     "metadata": {},
     "output_type": "execute_result"
    }
   ],
   "source": [
    "#Check\n",
    "my_dict['key1']"
   ]
  },
  {
   "cell_type": "markdown",
   "id": "2aebde31",
   "metadata": {},
   "source": [
    "A quick note, Python has a built-in method of doing a self subtraction or addition (or\n",
    "multiplication or division). We could have also used += or -= for the above statement. For example:"
   ]
  },
  {
   "cell_type": "code",
   "execution_count": 21,
   "id": "d9ae0228",
   "metadata": {},
   "outputs": [
    {
     "data": {
      "text/plain": [
       "-123"
      ]
     },
     "execution_count": 21,
     "metadata": {},
     "output_type": "execute_result"
    }
   ],
   "source": [
    "# Set the object equal to itself minus 123\n",
    "my_dict['key1'] -= 123\n",
    "my_dict['key1']"
   ]
  },
  {
   "cell_type": "markdown",
   "id": "6dde3b51",
   "metadata": {},
   "source": [
    "Now its your turn to get hands-on with Dictionary, create a empty dicts. Create a new key\n",
    "calle animal and assign a value 'Dog' to it.."
   ]
  },
  {
   "cell_type": "code",
   "execution_count": 22,
   "id": "2a474a7b",
   "metadata": {},
   "outputs": [],
   "source": [
    "# Create a new dictionary\n",
    "d = {}\n",
    "# Create a new key through assignment\n",
    "d['animal'] = 'Dog'"
   ]
  },
  {
   "cell_type": "markdown",
   "id": "1ea18ad3",
   "metadata": {},
   "source": [
    "### Set and Booleans"
   ]
  },
  {
   "cell_type": "markdown",
   "id": "d1027cfa",
   "metadata": {},
   "source": [
    "There are two other object types in Python that we should quickly cover. Sets and\n",
    "Booleans."
   ]
  },
  {
   "cell_type": "markdown",
   "id": "a88d3658",
   "metadata": {},
   "source": [
    "### Sets"
   ]
  },
  {
   "cell_type": "markdown",
   "id": "0f0f6743",
   "metadata": {},
   "source": [
    "Sets are an unordered collection of unique elements. We can construct them by using the\n",
    "set() function. Let's go ahead and make a set to see how it works"
   ]
  },
  {
   "cell_type": "code",
   "execution_count": 26,
   "id": "d697f612",
   "metadata": {},
   "outputs": [],
   "source": [
    "x = set()"
   ]
  },
  {
   "cell_type": "code",
   "execution_count": 27,
   "id": "389fbd2e",
   "metadata": {},
   "outputs": [],
   "source": [
    "# We add to sets with the add() method\n",
    "x.add(1)"
   ]
  },
  {
   "cell_type": "code",
   "execution_count": 28,
   "id": "7930af41",
   "metadata": {},
   "outputs": [
    {
     "data": {
      "text/plain": [
       "{1}"
      ]
     },
     "execution_count": 28,
     "metadata": {},
     "output_type": "execute_result"
    }
   ],
   "source": [
    "#Show\n",
    "x"
   ]
  },
  {
   "cell_type": "markdown",
   "id": "77ee7973",
   "metadata": {},
   "source": [
    "Note the curly brackets. This does not indicate a dictionary! Although you can draw\n",
    "analogies as a set being a dictionary with only keys."
   ]
  },
  {
   "cell_type": "markdown",
   "id": "49affe7e",
   "metadata": {},
   "source": [
    "We know that a set has only unique entries. So what happens when we try to add\n",
    "something that is already in a set?"
   ]
  },
  {
   "cell_type": "code",
   "execution_count": 30,
   "id": "0485fc74",
   "metadata": {},
   "outputs": [],
   "source": [
    "# Add a different element\n",
    "x.add(2)"
   ]
  },
  {
   "cell_type": "code",
   "execution_count": 31,
   "id": "e80a0ce7",
   "metadata": {},
   "outputs": [
    {
     "data": {
      "text/plain": [
       "{1, 2}"
      ]
     },
     "execution_count": 31,
     "metadata": {},
     "output_type": "execute_result"
    }
   ],
   "source": [
    "#Show\n",
    "x"
   ]
  },
  {
   "cell_type": "code",
   "execution_count": 32,
   "id": "c9addf3f",
   "metadata": {},
   "outputs": [],
   "source": [
    "# Try to add the same element\n",
    "x.add(1)"
   ]
  },
  {
   "cell_type": "code",
   "execution_count": 33,
   "id": "48be7cc1",
   "metadata": {},
   "outputs": [
    {
     "data": {
      "text/plain": [
       "{1, 2}"
      ]
     },
     "execution_count": 33,
     "metadata": {},
     "output_type": "execute_result"
    }
   ],
   "source": [
    "#Show\n",
    "x"
   ]
  },
  {
   "cell_type": "markdown",
   "id": "0933446e",
   "metadata": {},
   "source": [
    "Notice how it won't place another 1 there. That's because a set is only concerned with\n",
    "unique elements! We can cast a list with multiple repeat elements to a set to get the unique\n",
    "elements. For example:"
   ]
  },
  {
   "cell_type": "code",
   "execution_count": 35,
   "id": "52bcc472",
   "metadata": {},
   "outputs": [],
   "source": [
    "# Create a list with repeats\n",
    "l = [1,1,2,2,3,4,5,6,1,1]"
   ]
  },
  {
   "cell_type": "code",
   "execution_count": 36,
   "id": "ce06f999",
   "metadata": {},
   "outputs": [
    {
     "data": {
      "text/plain": [
       "{1, 2, 3, 4, 5, 6}"
      ]
     },
     "execution_count": 36,
     "metadata": {},
     "output_type": "execute_result"
    }
   ],
   "source": [
    "# Cast as set to get unique values\n",
    "set(l)"
   ]
  }
 ],
 "metadata": {
  "kernelspec": {
   "display_name": "Python 3 (ipykernel)",
   "language": "python",
   "name": "python3"
  },
  "language_info": {
   "codemirror_mode": {
    "name": "ipython",
    "version": 3
   },
   "file_extension": ".py",
   "mimetype": "text/x-python",
   "name": "python",
   "nbconvert_exporter": "python",
   "pygments_lexer": "ipython3",
   "version": "3.9.7"
  }
 },
 "nbformat": 4,
 "nbformat_minor": 5
}
